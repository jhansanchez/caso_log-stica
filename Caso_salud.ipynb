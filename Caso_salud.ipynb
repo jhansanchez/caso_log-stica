{
  "nbformat": 4,
  "nbformat_minor": 0,
  "metadata": {
    "colab": {
      "name": "Caso_salud.ipynb",
      "provenance": [],
      "collapsed_sections": [],
      "include_colab_link": true
    },
    "kernelspec": {
      "name": "python3",
      "display_name": "Python 3"
    },
    "language_info": {
      "name": "python"
    }
  },
  "cells": [
    {
      "cell_type": "markdown",
      "metadata": {
        "id": "view-in-github",
        "colab_type": "text"
      },
      "source": [
        "<a href=\"https://colab.research.google.com/github/jhansanchez/caso_salud/blob/main/Caso_salud.ipynb\" target=\"_parent\"><img src=\"https://colab.research.google.com/assets/colab-badge.svg\" alt=\"Open In Colab\"/></a>"
      ]
    },
    {
      "cell_type": "code",
      "execution_count": 409,
      "metadata": {
        "colab": {
          "base_uri": "https://localhost:8080/"
        },
        "id": "BfM3EVxLapzA",
        "outputId": "3a144b9c-cd30-407a-bcd3-cb7d19f930cc"
      },
      "outputs": [
        {
          "output_type": "stream",
          "name": "stdout",
          "text": [
            "Drive already mounted at /content/drive; to attempt to forcibly remount, call drive.mount(\"/content/drive\", force_remount=True).\n"
          ]
        }
      ],
      "source": [
        "#Conexión con colab\n",
        "from google.colab import drive\n",
        "drive.mount('/content/drive')"
      ]
    },
    {
      "cell_type": "code",
      "source": [
        "#Librerías\n",
        "import pandas as pd\n",
        "import numpy as np"
      ],
      "metadata": {
        "id": "EE0PENcIcp-0"
      },
      "execution_count": 410,
      "outputs": []
    },
    {
      "cell_type": "code",
      "source": [
        "#Cargar datos\n",
        "usuarios = pd.read_csv('/content/drive/Shareddrives/Analítica/NIVEL 3/Salud/RETO_df_usuarios.csv')\n",
        "egresos = pd.read_csv('/content/drive/Shareddrives/Analítica/NIVEL 3/Salud/RETO_df_egresos.csv')\n",
        "cronicos = pd.read_csv('/content/drive/Shareddrives/Analítica/NIVEL 3/Salud/RETO_df_cronicos.csv')"
      ],
      "metadata": {
        "colab": {
          "base_uri": "https://localhost:8080/"
        },
        "id": "-qE_hhURcx5F",
        "outputId": "6917d107-c044-418c-e716-c021c6c9bb47"
      },
      "execution_count": 470,
      "outputs": [
        {
          "output_type": "stream",
          "name": "stderr",
          "text": [
            "/usr/local/lib/python3.7/dist-packages/IPython/core/interactiveshell.py:3326: DtypeWarning: Columns (4,6,7,9,10,11,12) have mixed types.Specify dtype option on import or set low_memory=False.\n",
            "  exec(code_obj, self.user_global_ns, self.user_ns)\n",
            "/usr/local/lib/python3.7/dist-packages/IPython/core/interactiveshell.py:3326: DtypeWarning: Columns (34,36,39,40,50,52,55,56,58,62,64,65,66,75,107,108,111,122,123,124,125,126,127,128,129,130,131,132,133,134,135,136,137,138,139,140,141,142,143,144,145,146,147,148,149,150,151,152,153,154,155,156,157,158,159,160,161,162,163,164,165,166,167,168,169,170,171,172,173,174,175,176,177,178,179,180,181,182,183,184,185,186,187,188,189,190,191,192,193,194,195,196,197,198,199,200,201,202,203,204,205,206,207,208,209,210,211,212,213,214,215,216,217,218,219,220,221,222,223,224,225,226,227,228,229,230,231,232,233,234,235,236,237,238,239,240,241,242,243,244,245,246,247,248,249,250,251,252,253,254,255,256,257,258,259,260,261,262,263,264,265,266,267,268,269,270,271,272,273,274,275,276,277,278,279,280,281,282,283,284,285,286,287,288,289) have mixed types.Specify dtype option on import or set low_memory=False.\n",
            "  exec(code_obj, self.user_global_ns, self.user_ns)\n"
          ]
        }
      ]
    },
    {
      "cell_type": "code",
      "source": [
        "cronicos['YEAR'].unique()"
      ],
      "metadata": {
        "colab": {
          "base_uri": "https://localhost:8080/"
        },
        "id": "VjCAn5NUfYTv",
        "outputId": "cfcf0f86-75ea-420f-b9c3-5bdf703661df"
      },
      "execution_count": 412,
      "outputs": [
        {
          "output_type": "execute_result",
          "data": {
            "text/plain": [
              "array([2017, 2018, 2021, 2022])"
            ]
          },
          "metadata": {},
          "execution_count": 412
        }
      ]
    },
    {
      "cell_type": "code",
      "source": [
        "#Separar bases de datos para antes y después de pandemia\n",
        "cronicos_pre = cronicos[(cronicos['YEAR'] == 2017) | (cronicos['YEAR'] == 2018)]\n",
        "cronicos_pos = cronicos[(cronicos['YEAR'] == 2021) | (cronicos['YEAR'] == 2022)]"
      ],
      "metadata": {
        "id": "rOh4wXO1dlPA"
      },
      "execution_count": 413,
      "outputs": []
    },
    {
      "cell_type": "markdown",
      "source": [
        "#Limpieza de datos"
      ],
      "metadata": {
        "id": "WmO2zaPNs025"
      }
    },
    {
      "cell_type": "markdown",
      "source": [
        "##Base de datos crónicos"
      ],
      "metadata": {
        "id": "Au1E0APBsu_H"
      }
    },
    {
      "cell_type": "markdown",
      "source": [
        "###Cronicos pre pandemia"
      ],
      "metadata": {
        "id": "_xgbRx_cBrrj"
      }
    },
    {
      "cell_type": "code",
      "source": [
        "#Observar el porcentaje de nulos de cada base \n",
        "shape1 = cronicos_pre.shape\n",
        "shape2 = cronicos_pos.shape\n",
        "lista = cronicos_pre.columns\n",
        "nulos_pre = []\n",
        "nulos_pos = []\n",
        "for i in lista:\n",
        "    nulos_pre.append(cronicos_pre[i].isnull().sum()/shape1[0]*100)\n",
        "    nulos_pos.append(cronicos_pos[i].isnull().sum()/shape2[0]*100)\n",
        "    #print(i, \"->\", nulos_pre, \"Pre: \",round((nulos_pre/shape1[0])*100,2), \"% | \", nulos_pos, \"Pos: \",round((nulos_pos/shape2[0])*100,2), \"%\")\n"
      ],
      "metadata": {
        "id": "g7cpo7GH9n7r"
      },
      "execution_count": 414,
      "outputs": []
    },
    {
      "cell_type": "code",
      "source": [
        "def percent_null(datos):\n",
        "    shape = datos.shape\n",
        "    lista = datos.columns\n",
        "    for i in lista:\n",
        "        nulos = datos[i].isnull().sum()\n",
        "        print(i, \"->\", nulos, \" | \",round((nulos/shape[0])*100,2), \"%\")\n"
      ],
      "metadata": {
        "id": "y3VQ8BRHD-fF"
      },
      "execution_count": 415,
      "outputs": []
    },
    {
      "cell_type": "code",
      "source": [
        "def lista_null(datos):\n",
        "    shape = datos.shape\n",
        "    lista = datos.columns\n",
        "    nulos = []\n",
        "    for i in lista:\n",
        "        nulos.append((datos[i].isnull().sum()/shape[0])*100)\n",
        "    return nulos\n"
      ],
      "metadata": {
        "id": "6dAKp5qsJ3f_"
      },
      "execution_count": 416,
      "outputs": []
    },
    {
      "cell_type": "code",
      "source": [
        "cronicos.shape"
      ],
      "metadata": {
        "colab": {
          "base_uri": "https://localhost:8080/"
        },
        "id": "MYzF_-Szg2E7",
        "outputId": "94bd53bf-04a4-4b64-b66c-9e4ca2893bac"
      },
      "execution_count": 417,
      "outputs": [
        {
          "output_type": "execute_result",
          "data": {
            "text/plain": [
              "(38736, 290)"
            ]
          },
          "metadata": {},
          "execution_count": 417
        }
      ]
    },
    {
      "cell_type": "code",
      "source": [
        "#Eliminar columnas que tengan más del 50% nulos coincidiendo en pre y pos pandemia\n",
        "lista = cronicos.columns\n",
        "lista2 = []\n",
        "for i in range(len(lista)):\n",
        "    if nulos_pre[i] >= 50 and nulos_pos[i] >= 50:\n",
        "        lista2.append(lista[i])\n",
        "\n",
        "for i in lista2:\n",
        "    cronicos_pre = cronicos_pre.drop(i, axis = 1)\n",
        "    cronicos_pos = cronicos_pos.drop(i, axis = 1)"
      ],
      "metadata": {
        "id": "3BYakFpxAZuw"
      },
      "execution_count": 418,
      "outputs": []
    },
    {
      "cell_type": "code",
      "source": [
        "#cronicos_pre.info()\n",
        "percent_null(cronicos_pre)"
      ],
      "metadata": {
        "colab": {
          "base_uri": "https://localhost:8080/"
        },
        "id": "yJjH-Q2IDBKr",
        "outputId": "676e9f56-0da3-4710-d0c2-31e9c938dd84"
      },
      "execution_count": 419,
      "outputs": [
        {
          "output_type": "stream",
          "name": "stdout",
          "text": [
            "YEAR -> 0  |  0.0 %\n",
            "MES -> 0  |  0.0 %\n",
            "Fecha diligenciamiento -> 0  |  0.0 %\n",
            "Hora -> 0  |  0.0 %\n",
            "Atención -> 0  |  0.0 %\n",
            "Ingreso -> 0  |  0.0 %\n",
            "Tipo -> 0  |  0.0 %\n",
            "NRODOC -> 0  |  0.0 %\n",
            "Peso -> 0  |  0.0 %\n",
            "Talla -> 0  |  0.0 %\n",
            "IMC -> 0  |  0.0 %\n",
            "Clasificación IMC -> 0  |  0.0 %\n",
            "Saturación de Oxígeno (%) -> 24  |  0.19 %\n",
            "Perímetro Muslo -> 0  |  0.0 %\n",
            "Perímetro Cintura -> 0  |  0.0 %\n",
            "Pliegue Triceps -> 0  |  0.0 %\n",
            "Pliegue Abdomen -> 0  |  0.0 %\n",
            "Pliegue Muslo -> 0  |  0.0 %\n",
            "Sumatoria Pliegues -> 0  |  0.0 %\n",
            "Presión Arterial Sistólica -> 0  |  0.0 %\n",
            "Presión Arterial Diastólica -> 0  |  0.0 %\n",
            "Frecuencia Cardíaca en reposo -> 0  |  0.0 %\n",
            "Auto-calificacion Nivel de Ejercicio -> 0  |  0.0 %\n",
            "Constantes -> 0  |  0.0 %\n",
            "METS -Índice Metabólico -> 0  |  0.0 %\n",
            "VO2 - Máxima Cantidad de Oxígeno -> 0  |  0.0 %\n",
            "Índice de Fragilidad Groningen -> 45  |  0.35 %\n",
            "Calificación (Índice de Fragilidad) -> 0  |  0.0 %\n",
            "Tiempo en Segundos (Apoyo Monopodal) -> 0  |  0.0 %\n",
            "Calificación (Apoyo Monopodal) -> 0  |  0.0 %\n",
            "Tiempo en Segundos (Recorrer 5 metros) -> 0  |  0.0 %\n",
            "Velocidad (m/s) -> 0  |  0.0 %\n",
            "Calificación Velocidad -> 0  |  0.0 %\n",
            "Test Findrisc -> 95  |  0.74 %\n",
            "Índice Tobillo/Brazo -> 12329  |  96.12 %\n",
            "Presión arterial registro medico -> 12827  |  100.0 %\n",
            "Diabetes Mellitus -> 268  |  2.09 %\n",
            "Tipo diabetes mellitus -> 0  |  0.0 %\n",
            "Es insulinorequiriente -> 0  |  0.0 %\n",
            "Tiempo con el diagnóstico -> 0  |  0.0 %\n",
            "Glicemia -> 268  |  2.09 %\n",
            "Fecha glicemia -> 0  |  0.0 %\n",
            "Hemoglobina Glicada -> 268  |  2.09 %\n",
            "Fecha hemoglobina glicosilada -> 0  |  0.0 %\n",
            "Control Diabetes -> 268  |  2.09 %\n",
            "Tiene riesgo de tener Diabetes Mellitus -> 5282  |  41.18 %\n",
            "Tiene HTA -> 268  |  2.09 %\n",
            "Control HTA -> 10122  |  78.91 %\n",
            "Tiene riesgo de tener HTA -> 10122  |  78.91 %\n",
            "Tiempo con el diagnóstico1 -> 0  |  0.0 %\n",
            "Tiene EPOC -> 268  |  2.09 %\n",
            "EPOC (Clasificación BODEX) -> 1340  |  10.45 %\n",
            "Enfermedad Coronaria (En el último año) -> 268  |  2.09 %\n",
            "Insuficiencia Cardíaca -> 268  |  2.09 %\n",
            "Valvulopatía -> 268  |  2.09 %\n",
            "Arritmia o paciente con dispositivo -> 268  |  2.09 %\n",
            "Sufre de alguna enfermedad cardiovascular -> 268  |  2.09 %\n",
            "Tabaquismo -> 268  |  2.09 %\n",
            "Cuantos cigarrillos día -> 0  |  0.0 %\n",
            "Años de Consumo -> 12827  |  100.0 %\n",
            "Lipoproteina -> 268  |  2.09 %\n",
            "Fecha LDL -> 0  |  0.0 %\n",
            "HDL -> 268  |  2.09 %\n",
            "Fecha HDL -> 0  |  0.0 %\n",
            "Colesterol total -> 268  |  2.09 %\n",
            "Fecha colesterol total -> 0  |  0.0 %\n",
            "Trigliceridos -> 268  |  2.09 %\n",
            "Fecha trigliceridos -> 0  |  0.0 %\n",
            "Clasificación de Framinghan -> 7949  |  61.97 %\n",
            "Creatinina 1 consulta -> 268  |  2.09 %\n",
            "Fecha creatinina1 -> 0  |  0.0 %\n",
            "Tasa de Filtración Glomerular TFG -> 268  |  2.09 %\n",
            "Estadio de la Enfermedad Renal -> 1470  |  11.46 %\n",
            "Microalbuminuria -> 268  |  2.09 %\n",
            "Fecha microalbuminuria -> 0  |  0.0 %\n",
            "Hormona Estimulante de la Tiroides (TSH) -> 268  |  2.09 %\n",
            "Clase Funcional -> 268  |  2.09 %\n",
            "Creatinina 2 consulta -> 268  |  2.09 %\n",
            "Fecha creatinina2 -> 0  |  0.0 %\n",
            "Tasa de Filtración Glomerular TFG2 -> 268  |  2.09 %\n",
            "Meses de diferencia entre TFG -> 268  |  2.09 %\n",
            "Cambio de TFG -> 268  |  2.09 %\n",
            "Clasificación Cambio de TFG -> 2808  |  21.89 %\n",
            "Basciloscopia -> 12812  |  99.88 %\n",
            "Úlcera de pie diabético -> 268  |  2.09 %\n",
            "Remisión -> 268  |  2.09 %\n",
            "Diagnóstico Principal -> 564  |  4.4 %\n",
            "Análisis y conducta a seguir -> 269  |  2.1 %\n",
            "Tiene próximo control -> 0  |  0.0 %\n",
            "Fecha Próximo Control -> 276  |  2.15 %\n",
            "Tipo control -> 0  |  0.0 %\n",
            "Requiere cita de morbilidad -> 0  |  0.0 %\n",
            "Fecha cita morbilidad -> 0  |  0.0 %\n",
            "Ambito según el médico -> 0  |  0.0 %\n",
            "Diagnostico1 -> 12827  |  100.0 %\n",
            "NombreDiagnostico1 -> 12827  |  100.0 %\n",
            "Diagnostico2 -> 12827  |  100.0 %\n",
            "NombreDiagnostico2 -> 12827  |  100.0 %\n"
          ]
        }
      ]
    },
    {
      "cell_type": "code",
      "source": [
        "#Mirar las categorías de las variables que tengan más del 30% de nulos\n",
        "shape = cronicos_pre.shape\n",
        "lista = cronicos_pre.columns\n",
        "lista2 = []\n",
        "for i in lista:\n",
        "    nulos_pre = (cronicos_pre[i].isnull().sum()/shape[0])*100\n",
        "    if nulos_pre > 30:\n",
        "        print(i)\n",
        "        print(cronicos_pre[i].unique())\n",
        "        print(round(nulos_pre, 2), \"%\")\n",
        "        print('--------------------------')\n",
        "        lista2.append(i)\n",
        "\n"
      ],
      "metadata": {
        "colab": {
          "base_uri": "https://localhost:8080/"
        },
        "id": "6fRUY3gHG9ux",
        "outputId": "2ae60237-b274-48d3-c31a-232ded934879"
      },
      "execution_count": 420,
      "outputs": [
        {
          "output_type": "stream",
          "name": "stdout",
          "text": [
            "Índice Tobillo/Brazo\n",
            "[nan '0.91 - 1.30 Normal'\n",
            " '0.41 - 0.90 Enfermedad arterial periférica leve a moderada'\n",
            " '<0.4 EAP Grave']\n",
            "96.12 %\n",
            "--------------------------\n",
            "Presión arterial registro medico\n",
            "[nan]\n",
            "100.0 %\n",
            "--------------------------\n",
            "Tiene riesgo de tener Diabetes Mellitus\n",
            "['No aplica' nan 'Alto riesgo' 'Posible diabetes NOVO'\n",
            " 'Verificar glicemia o hemoglobina']\n",
            "41.18 %\n",
            "--------------------------\n",
            "Control HTA\n",
            "['Controlada' 'No controlada' 'No aplica' nan]\n",
            "78.91 %\n",
            "--------------------------\n",
            "Tiene riesgo de tener HTA\n",
            "['No aplica' 'Bajo riesgo' 'Alto riesgo' nan 'Moderada']\n",
            "78.91 %\n",
            "--------------------------\n",
            "Años de Consumo\n",
            "[nan]\n",
            "100.0 %\n",
            "--------------------------\n",
            "Clasificación de Framinghan\n",
            "['Bajo riesgo' 'Alto riesgo' nan]\n",
            "61.97 %\n",
            "--------------------------\n",
            "Basciloscopia\n",
            "[nan '01/06/2017 12:00:00 a. m.' '17/11/2017 12:00:00 a. m.'\n",
            " '29/06/2017 12:00:00 a. m.' '22/06/2018 12:00:00 a. m.'\n",
            " '07/12/2018 12:00:00 a. m.']\n",
            "99.88 %\n",
            "--------------------------\n",
            "Diagnostico1\n",
            "[nan]\n",
            "100.0 %\n",
            "--------------------------\n",
            "NombreDiagnostico1\n",
            "[nan]\n",
            "100.0 %\n",
            "--------------------------\n",
            "Diagnostico2\n",
            "[nan]\n",
            "100.0 %\n",
            "--------------------------\n",
            "NombreDiagnostico2\n",
            "[nan]\n",
            "100.0 %\n",
            "--------------------------\n"
          ]
        }
      ]
    },
    {
      "cell_type": "code",
      "source": [
        "for i in lista2:\n",
        "    cronicos_pre = cronicos_pre.drop(i, axis = 1)"
      ],
      "metadata": {
        "id": "yIDr2ZDlVLh1"
      },
      "execution_count": 421,
      "outputs": []
    },
    {
      "cell_type": "code",
      "source": [
        "#Eliminar variables que solo tengan datos ND\n",
        "lista = cronicos_pre.columns\n",
        "for i in lista:\n",
        "    var = list(cronicos_pre[i].unique())\n",
        "    if var[0] == \"ND\":\n",
        "        cronicos_pre = cronicos_pre.drop(i, axis = 1)"
      ],
      "metadata": {
        "id": "MLwXl70dmbSv"
      },
      "execution_count": 423,
      "outputs": []
    },
    {
      "cell_type": "code",
      "source": [
        "cronicos_pre.info()"
      ],
      "metadata": {
        "colab": {
          "base_uri": "https://localhost:8080/"
        },
        "id": "5SqU8JeJnlpS",
        "outputId": "2ec62c6b-48b6-4d0d-88a1-755f15754e22"
      },
      "execution_count": 424,
      "outputs": [
        {
          "output_type": "stream",
          "name": "stdout",
          "text": [
            "<class 'pandas.core.frame.DataFrame'>\n",
            "Int64Index: 12827 entries, 0 to 12826\n",
            "Data columns (total 69 columns):\n",
            " #   Column                                     Non-Null Count  Dtype  \n",
            "---  ------                                     --------------  -----  \n",
            " 0   YEAR                                       12827 non-null  int64  \n",
            " 1   MES                                        12827 non-null  object \n",
            " 2   Fecha diligenciamiento                     12827 non-null  object \n",
            " 3   Hora                                       12827 non-null  object \n",
            " 4   Atención                                   12827 non-null  int64  \n",
            " 5   Ingreso                                    12827 non-null  int64  \n",
            " 6   Tipo                                       12827 non-null  object \n",
            " 7   NRODOC                                     12827 non-null  int64  \n",
            " 8   Peso                                       12827 non-null  float64\n",
            " 9   Talla                                      12827 non-null  float64\n",
            " 10  IMC                                        12827 non-null  float64\n",
            " 11  Clasificación IMC                          12827 non-null  object \n",
            " 12  Saturación de Oxígeno (%)                  12803 non-null  float64\n",
            " 13  Perímetro Muslo                            12827 non-null  float64\n",
            " 14  Perímetro Cintura                          12827 non-null  float64\n",
            " 15  Pliegue Triceps                            12827 non-null  float64\n",
            " 16  Pliegue Abdomen                            12827 non-null  float64\n",
            " 17  Pliegue Muslo                              12827 non-null  float64\n",
            " 18  Sumatoria Pliegues                         12827 non-null  float64\n",
            " 19  Presión Arterial Sistólica                 12827 non-null  int64  \n",
            " 20  Presión Arterial Diastólica                12827 non-null  int64  \n",
            " 21  Frecuencia Cardíaca en reposo              12827 non-null  int64  \n",
            " 22  Auto-calificacion Nivel de Ejercicio       12827 non-null  int64  \n",
            " 23  Constantes                                 12827 non-null  float64\n",
            " 24  METS -Índice Metabólico                    12827 non-null  float64\n",
            " 25  VO2 - Máxima Cantidad de Oxígeno           12827 non-null  float64\n",
            " 26  Índice de Fragilidad Groningen             12782 non-null  float64\n",
            " 27  Calificación (Índice de Fragilidad)        12827 non-null  object \n",
            " 28  Tiempo en Segundos (Apoyo Monopodal)       12827 non-null  int64  \n",
            " 29  Calificación (Apoyo Monopodal)             12827 non-null  object \n",
            " 30  Tiempo en Segundos (Recorrer 5 metros)     12827 non-null  int64  \n",
            " 31  Velocidad (m/s)                            12827 non-null  float64\n",
            " 32  Calificación Velocidad                     12827 non-null  object \n",
            " 33  Test Findrisc                              12732 non-null  object \n",
            " 34  Diabetes Mellitus                          12559 non-null  object \n",
            " 35  Glicemia                                   12559 non-null  float64\n",
            " 36  Hemoglobina Glicada                        12559 non-null  float64\n",
            " 37  Control Diabetes                           12559 non-null  object \n",
            " 38  Tiene HTA                                  12559 non-null  object \n",
            " 39  Tiene EPOC                                 12559 non-null  object \n",
            " 40  EPOC (Clasificación BODEX)                 11487 non-null  object \n",
            " 41  Enfermedad Coronaria (En el último año)    12559 non-null  object \n",
            " 42  Insuficiencia Cardíaca                     12559 non-null  object \n",
            " 43  Valvulopatía                               12559 non-null  object \n",
            " 44  Arritmia o paciente con dispositivo        12559 non-null  object \n",
            " 45  Sufre de alguna enfermedad cardiovascular  12559 non-null  object \n",
            " 46  Tabaquismo                                 12559 non-null  object \n",
            " 47  Lipoproteina                               12559 non-null  float64\n",
            " 48  HDL                                        12559 non-null  float64\n",
            " 49  Colesterol total                           12559 non-null  float64\n",
            " 50  Trigliceridos                              12559 non-null  float64\n",
            " 51  Creatinina 1 consulta                      12559 non-null  float64\n",
            " 52  Tasa de Filtración Glomerular TFG          12559 non-null  float64\n",
            " 53  Estadio de la Enfermedad Renal             11357 non-null  object \n",
            " 54  Microalbuminuria                           12559 non-null  float64\n",
            " 55  Hormona Estimulante de la Tiroides (TSH)   12559 non-null  float64\n",
            " 56  Clase Funcional                            12559 non-null  object \n",
            " 57  Creatinina 2 consulta                      12559 non-null  float64\n",
            " 58  Tasa de Filtración Glomerular TFG2         12559 non-null  float64\n",
            " 59  Meses de diferencia entre TFG              12559 non-null  float64\n",
            " 60  Cambio de TFG                              12559 non-null  float64\n",
            " 61  Clasificación Cambio de TFG                10019 non-null  object \n",
            " 62  Úlcera de pie diabético                    12559 non-null  object \n",
            " 63  Remisión                                   12559 non-null  object \n",
            " 64  Diagnóstico Principal                      12263 non-null  object \n",
            " 65  Análisis y conducta a seguir               12558 non-null  object \n",
            " 66  Fecha Próximo Control                      12551 non-null  object \n",
            " 67  Tipo control                               12827 non-null  object \n",
            " 68  Ambito según el médico                     12827 non-null  object \n",
            "dtypes: float64(29), int64(10), object(30)\n",
            "memory usage: 6.9+ MB\n"
          ]
        }
      ]
    },
    {
      "cell_type": "code",
      "source": [
        "#Eliminar variables que no se considerarán en el estudio \n",
        "cronicos_pre = cronicos_pre.drop(['Clasificación Cambio de TFG'], axis = 1)"
      ],
      "metadata": {
        "id": "j7A1Rz-vpuo0"
      },
      "execution_count": 425,
      "outputs": []
    },
    {
      "cell_type": "code",
      "source": [
        "cronicos_pre = cronicos_pre.dropna()"
      ],
      "metadata": {
        "id": "sfD6j_93oE-3"
      },
      "execution_count": 426,
      "outputs": []
    },
    {
      "cell_type": "code",
      "source": [
        "lista = cronicos_pre.columns\n",
        "for i in lista:\n",
        "    print(i)\n",
        "    print(cronicos_pre[i].value_counts())\n",
        "    print('__________________________')"
      ],
      "metadata": {
        "id": "BaEK0JnB_p7Q",
        "colab": {
          "base_uri": "https://localhost:8080/"
        },
        "outputId": "87b95c84-f733-40c9-f0d6-5504c064acc2"
      },
      "execution_count": 475,
      "outputs": [
        {
          "output_type": "stream",
          "name": "stdout",
          "text": [
            "YEAR\n",
            "2018    8412\n",
            "2017    1953\n",
            "Name: YEAR, dtype: int64\n",
            "__________________________\n",
            "MES\n",
            "DICIEMBRE     1418\n",
            "NOVIEMBRE     1334\n",
            "OCTUBRE       1277\n",
            "MAYO           905\n",
            "AGOSTO         860\n",
            "MARZO          832\n",
            "ENERO          826\n",
            "FEBRERO        816\n",
            "JULIO          801\n",
            "JUNIO          730\n",
            "SEPTIEMBRE     566\n",
            "Name: MES, dtype: int64\n",
            "__________________________\n",
            "Fecha diligenciamiento\n",
            "2018-07-23    71\n",
            "2018-08-13    69\n",
            "2018-03-26    68\n",
            "2018-07-30    67\n",
            "2018-05-28    66\n",
            "              ..\n",
            "2018-09-11     4\n",
            "2018-11-03     3\n",
            "2018-09-13     3\n",
            "2017-10-12     2\n",
            "2018-09-04     2\n",
            "Name: Fecha diligenciamiento, Length: 288, dtype: int64\n",
            "__________________________\n",
            "Hora\n",
            "2:49:09 p. m.     5\n",
            "1:55:16 p. m.     4\n",
            "10:17:58 a. m.    4\n",
            "9:00:57 a. m.     4\n",
            "11:09:01 a. m.    4\n",
            "                 ..\n",
            "1:48:56 p. m.     1\n",
            "12:54:23 p. m.    1\n",
            "11:53:59 a. m.    1\n",
            "11:44:17 a. m.    1\n",
            "9:51:58 a. m.     1\n",
            "Name: Hora, Length: 8838, dtype: int64\n",
            "__________________________\n",
            "Atención\n",
            "4101274    2\n",
            "4120951    2\n",
            "4325872    2\n",
            "4101090    2\n",
            "4101002    2\n",
            "          ..\n",
            "4153411    1\n",
            "4150523    1\n",
            "4141664    1\n",
            "4156427    1\n",
            "4502406    1\n",
            "Name: Atención, Length: 10343, dtype: int64\n",
            "__________________________\n",
            "Ingreso\n",
            "2629714    1\n",
            "2996283    1\n",
            "2995154    1\n",
            "2995437    1\n",
            "2994968    1\n",
            "          ..\n",
            "2796597    1\n",
            "2796606    1\n",
            "2796612    1\n",
            "2797410    1\n",
            "2576068    1\n",
            "Name: Ingreso, Length: 10365, dtype: int64\n",
            "__________________________\n",
            "Tipo\n",
            "CC    10357\n",
            "CE        8\n",
            "Name: Tipo, dtype: int64\n",
            "__________________________\n",
            "NRODOC\n",
            "310577    10\n",
            "311362    10\n",
            "310486     9\n",
            "307541     9\n",
            "308615     9\n",
            "          ..\n",
            "307093     1\n",
            "306495     1\n",
            "307849     1\n",
            "310918     1\n",
            "311740     1\n",
            "Name: NRODOC, Length: 2673, dtype: int64\n",
            "__________________________\n",
            "Peso\n",
            "68.0     338\n",
            "62.0     327\n",
            "65.0     319\n",
            "66.0     316\n",
            "69.0     312\n",
            "        ... \n",
            "666.0      1\n",
            "158.0      1\n",
            "56.7       1\n",
            "72.3       1\n",
            "6.0        1\n",
            "Name: Peso, Length: 116, dtype: int64\n",
            "__________________________\n",
            "Talla\n",
            "150.00    624\n",
            "158.00    473\n",
            "154.00    440\n",
            "152.00    436\n",
            "155.00    410\n",
            "         ... \n",
            "1.52        1\n",
            "79.00       1\n",
            "1.43        1\n",
            "125.00      1\n",
            "129.00      1\n",
            "Name: Talla, Length: 78, dtype: int64\n",
            "__________________________\n",
            "IMC\n",
            "26.84     56\n",
            "33.78     55\n",
            "26.67     52\n",
            "30.86     48\n",
            "28.44     47\n",
            "          ..\n",
            "15.87      1\n",
            "15.48      1\n",
            "253.16     1\n",
            "20.52      1\n",
            "23.64      1\n",
            "Name: IMC, Length: 1514, dtype: int64\n",
            "__________________________\n",
            "Clasificación IMC\n",
            "Sobrepeso         4058\n",
            "Obesidad Grasa    3739\n",
            "Normal            2438\n",
            "Bajo               130\n",
            "Name: Clasificación IMC, dtype: int64\n",
            "__________________________\n",
            "Saturación de Oxígeno (%)\n",
            "96.0     1700\n",
            "95.0     1685\n",
            "97.0     1264\n",
            "94.0     1254\n",
            "93.0      979\n",
            "98.0      781\n",
            "92.0      694\n",
            "91.0      433\n",
            "90.0      330\n",
            "99.0      293\n",
            "89.0      162\n",
            "88.0      154\n",
            "87.0      114\n",
            "86.0       94\n",
            "85.0       68\n",
            "84.0       60\n",
            "100.0      46\n",
            "83.0       42\n",
            "80.0       33\n",
            "82.0       31\n",
            "0.0        22\n",
            "81.0       20\n",
            "79.0        9\n",
            "75.0        9\n",
            "78.0        9\n",
            "74.0        9\n",
            "77.0        8\n",
            "76.0        8\n",
            "70.0        7\n",
            "71.0        5\n",
            "64.0        5\n",
            "73.0        5\n",
            "72.0        4\n",
            "69.0        3\n",
            "67.0        3\n",
            "65.0        3\n",
            "62.0        3\n",
            "63.0        3\n",
            "68.0        2\n",
            "114.0       1\n",
            "10.0        1\n",
            "115.0       1\n",
            "60.0        1\n",
            "111.0       1\n",
            "66.0        1\n",
            "59.0        1\n",
            "105.0       1\n",
            "891.0       1\n",
            "9.0         1\n",
            "58.0        1\n",
            "Name: Saturación de Oxígeno (%), dtype: int64\n",
            "__________________________\n",
            "Perímetro Muslo\n",
            "50.0     820\n",
            "54.0     695\n",
            "52.0     604\n",
            "60.0     603\n",
            "58.0     560\n",
            "        ... \n",
            "133.0      1\n",
            "152.0      1\n",
            "123.0      1\n",
            "118.0      1\n",
            "580.0      1\n",
            "Name: Perímetro Muslo, Length: 114, dtype: int64\n",
            "__________________________\n",
            "Perímetro Cintura\n",
            "100.0    595\n",
            "110.0    427\n",
            "102.0    399\n",
            "90.0     361\n",
            "98.0     358\n",
            "        ... \n",
            "49.0       1\n",
            "11.0       1\n",
            "145.0      1\n",
            "5.0        1\n",
            "902.0      1\n",
            "Name: Perímetro Cintura, Length: 129, dtype: int64\n",
            "__________________________\n",
            "Pliegue Triceps\n",
            "10.0      2431\n",
            "15.0      1441\n",
            "5.0        900\n",
            "20.0       428\n",
            "13.0       423\n",
            "          ... \n",
            "123.0        1\n",
            "115.0        1\n",
            "90.0         1\n",
            "66.0         1\n",
            "2732.0       1\n",
            "Name: Pliegue Triceps, Length: 66, dtype: int64\n",
            "__________________________\n",
            "Pliegue Abdomen\n",
            "25.0     899\n",
            "15.0     741\n",
            "20.0     661\n",
            "45.0     622\n",
            "10.0     535\n",
            "        ... \n",
            "332.0      1\n",
            "448.0      1\n",
            "98.0       1\n",
            "77.0       1\n",
            "151.0      1\n",
            "Name: Pliegue Abdomen, Length: 98, dtype: int64\n",
            "__________________________\n",
            "Pliegue Muslo\n",
            "10.0      1375\n",
            "15.0      1093\n",
            "20.0       664\n",
            "25.0       598\n",
            "12.0       479\n",
            "          ... \n",
            "91.0         1\n",
            "77.0         1\n",
            "170.0        1\n",
            "1248.0       1\n",
            "84.0         1\n",
            "Name: Pliegue Muslo, Length: 86, dtype: int64\n",
            "__________________________\n",
            "Sumatoria Pliegues\n",
            "45.0      402\n",
            "65.0      340\n",
            "40.0      333\n",
            "55.0      289\n",
            "105.0     256\n",
            "         ... \n",
            "220.0       1\n",
            "189.0       1\n",
            "194.0       1\n",
            "212.0       1\n",
            "3890.0      1\n",
            "Name: Sumatoria Pliegues, Length: 209, dtype: int64\n",
            "__________________________\n",
            "Presión Arterial Sistólica\n",
            "130    314\n",
            "120    298\n",
            "139    275\n",
            "138    271\n",
            "140    267\n",
            "      ... \n",
            "242      1\n",
            "227      1\n",
            "233      1\n",
            "221      1\n",
            "76       1\n",
            "Name: Presión Arterial Sistólica, Length: 153, dtype: int64\n",
            "__________________________\n",
            "Presión Arterial Diastólica\n",
            "70     487\n",
            "80     466\n",
            "60     344\n",
            "75     343\n",
            "68     339\n",
            "      ... \n",
            "141      1\n",
            "146      1\n",
            "122      1\n",
            "143      1\n",
            "36       1\n",
            "Name: Presión Arterial Diastólica, Length: 104, dtype: int64\n",
            "__________________________\n",
            "Frecuencia Cardíaca en reposo\n",
            "70     339\n",
            "75     335\n",
            "76     317\n",
            "74     315\n",
            "68     312\n",
            "      ... \n",
            "131      1\n",
            "119      1\n",
            "125      1\n",
            "134      1\n",
            "17       1\n",
            "Name: Frecuencia Cardíaca en reposo, Length: 108, dtype: int64\n",
            "__________________________\n",
            "Auto-calificacion Nivel de Ejercicio\n",
            "1    4461\n",
            "2    3773\n",
            "3    2089\n",
            "4      35\n",
            "5       7\n",
            "Name: Auto-calificacion Nivel de Ejercicio, dtype: int64\n",
            "__________________________\n",
            "Constantes\n",
            "0.00    4461\n",
            "0.32    3773\n",
            "1.06    2089\n",
            "1.76      35\n",
            "3.03       7\n",
            "Name: Constantes, dtype: int64\n",
            "__________________________\n",
            "METS -Índice Metabólico\n",
            "4.4751    4\n",
            "2.4287    4\n",
            "2.3074    4\n",
            "3.8972    4\n",
            "3.3568    4\n",
            "         ..\n",
            "5.9091    1\n",
            "6.5458    1\n",
            "4.4740    1\n",
            "3.4577    1\n",
            "5.8817    1\n",
            "Name: METS -Índice Metabólico, Length: 9581, dtype: int64\n",
            "__________________________\n",
            "VO2 - Máxima Cantidad de Oxígeno\n",
            "8.0759     4\n",
            "11.7488    4\n",
            "13.6402    4\n",
            "13.6006    3\n",
            "8.5082     3\n",
            "          ..\n",
            "15.6590    1\n",
            "22.9103    1\n",
            "20.6818    1\n",
            "11.8297    1\n",
            "20.5859    1\n",
            "Name: VO2 - Máxima Cantidad de Oxígeno, Length: 9690, dtype: int64\n",
            "__________________________\n",
            "Índice de Fragilidad Groningen\n",
            "2.0     3632\n",
            "3.0     2302\n",
            "1.0     1958\n",
            "4.0     1364\n",
            "5.0      449\n",
            "6.0      248\n",
            "7.0      180\n",
            "0.0       95\n",
            "8.0       62\n",
            "9.0       40\n",
            "10.0      20\n",
            "11.0       7\n",
            "12.0       5\n",
            "15.0       2\n",
            "14.0       1\n",
            "Name: Índice de Fragilidad Groningen, dtype: int64\n",
            "__________________________\n",
            "Calificación (Índice de Fragilidad)\n",
            "Normal    9043\n",
            "Frágil    1322\n",
            "Name: Calificación (Índice de Fragilidad), dtype: int64\n",
            "__________________________\n",
            "Tiempo en Segundos (Apoyo Monopodal)\n",
            "1      1684\n",
            "25     1112\n",
            "0      1026\n",
            "2       982\n",
            "20      633\n",
            "30      618\n",
            "10      615\n",
            "3       600\n",
            "7       479\n",
            "15      462\n",
            "5       402\n",
            "6       369\n",
            "4       270\n",
            "8       254\n",
            "12      160\n",
            "13      136\n",
            "18      103\n",
            "11       84\n",
            "21       62\n",
            "9        52\n",
            "17       44\n",
            "14       43\n",
            "23       40\n",
            "28       35\n",
            "16       27\n",
            "22       25\n",
            "24       17\n",
            "19       12\n",
            "27        8\n",
            "26        4\n",
            "35        2\n",
            "29        1\n",
            "32        1\n",
            "40        1\n",
            "912       1\n",
            "82        1\n",
            "Name: Tiempo en Segundos (Apoyo Monopodal), dtype: int64\n",
            "__________________________\n",
            "Calificación (Apoyo Monopodal)\n",
            "Malo - Fragil    6118\n",
            "Aceptable        3623\n",
            "Bueno             624\n",
            "Name: Calificación (Apoyo Monopodal), dtype: int64\n",
            "__________________________\n",
            "Tiempo en Segundos (Recorrer 5 metros)\n",
            "5    2186\n",
            "6    1954\n",
            "7    1884\n",
            "3    1814\n",
            "4    1298\n",
            "8     542\n",
            "9     524\n",
            "0     135\n",
            "2      17\n",
            "1      11\n",
            "Name: Tiempo en Segundos (Recorrer 5 metros), dtype: int64\n",
            "__________________________\n",
            "Velocidad (m/s)\n",
            "1.00    2186\n",
            "0.83    1954\n",
            "0.71    1884\n",
            "1.67    1814\n",
            "1.25    1298\n",
            "0.63     542\n",
            "0.56     524\n",
            "0.00     135\n",
            "2.50      17\n",
            "5.00      11\n",
            "Name: Velocidad (m/s), dtype: int64\n",
            "__________________________\n",
            "Calificación Velocidad\n",
            "Deficiente       4360\n",
            "Aceptable        3482\n",
            "Bueno            1868\n",
            "Malo - Frágil     655\n",
            "Name: Calificación Velocidad, dtype: int64\n",
            "__________________________\n",
            "Test Findrisc\n",
            "Alta Probabilidad de Diabetes    8651\n",
            "Baja Probabilidad de Diabetes    1714\n",
            "Name: Test Findrisc, dtype: int64\n",
            "__________________________\n",
            "Diabetes Mellitus\n",
            "Si    5407\n",
            "No    4958\n",
            "Name: Diabetes Mellitus, dtype: int64\n",
            "__________________________\n",
            "Glicemia\n",
            "0.00      7112\n",
            "95.00      129\n",
            "96.00      112\n",
            "94.00      110\n",
            "98.00      108\n",
            "          ... \n",
            "103.61       1\n",
            "99.66        1\n",
            "87.72        1\n",
            "100.58       1\n",
            "99.32        1\n",
            "Name: Glicemia, Length: 299, dtype: int64\n",
            "__________________________\n",
            "Hemoglobina Glicada\n",
            "0.00      3310\n",
            "5.90       119\n",
            "5.80       117\n",
            "6.30        94\n",
            "5.70        92\n",
            "          ... \n",
            "9.92         1\n",
            "9.43         1\n",
            "568.00       1\n",
            "586.00       1\n",
            "5.04         1\n",
            "Name: Hemoglobina Glicada, Length: 554, dtype: int64\n",
            "__________________________\n",
            "Control Diabetes\n",
            "No aplica            4958\n",
            "controlada           3506\n",
            "No controlada        1233\n",
            "Falta hemoglobina     668\n",
            "Name: Control Diabetes, dtype: int64\n",
            "__________________________\n",
            "Tiene HTA\n",
            "Si    9651\n",
            "No     714\n",
            "Name: Tiene HTA, dtype: int64\n",
            "__________________________\n",
            "Tiene EPOC\n",
            "No          7141\n",
            "Si          1961\n",
            "Sospecha    1263\n",
            "Name: Tiene EPOC, dtype: int64\n",
            "__________________________\n",
            "EPOC (Clasificación BODEX)\n",
            "Leve         9835\n",
            "No aplica     424\n",
            "Moderada       79\n",
            "Grave          24\n",
            "Muy grave       3\n",
            "Name: EPOC (Clasificación BODEX), dtype: int64\n",
            "__________________________\n",
            "Enfermedad Coronaria (En el último año)\n",
            "No aplica           9759\n",
            "IAM                  531\n",
            "Angina estable        47\n",
            "No                    17\n",
            "Angina inestable      11\n",
            "Name: Enfermedad Coronaria (En el último año), dtype: int64\n",
            "__________________________\n",
            "Insuficiencia Cardíaca\n",
            "No aplica                    8408\n",
            "Controlada                   1848\n",
            "No controlada                  64\n",
            "No                             21\n",
            "Signos de sobrecarga           17\n",
            "Deterioro de c. funcional       7\n",
            "Name: Insuficiencia Cardíaca, dtype: int64\n",
            "__________________________\n",
            "Valvulopatía\n",
            "No    9880\n",
            "Si     485\n",
            "Name: Valvulopatía, dtype: int64\n",
            "__________________________\n",
            "Arritmia o paciente con dispositivo\n",
            "No    9328\n",
            "Si    1037\n",
            "Name: Arritmia o paciente con dispositivo, dtype: int64\n",
            "__________________________\n",
            "Sufre de alguna enfermedad cardiovascular\n",
            "No    5953\n",
            "Si    4412\n",
            "Name: Sufre de alguna enfermedad cardiovascular, dtype: int64\n",
            "__________________________\n",
            "Tabaquismo\n",
            "No    9526\n",
            "Si     839\n",
            "Name: Tabaquismo, dtype: int64\n",
            "__________________________\n",
            "Lipoproteina\n",
            "0.00      928\n",
            "57.00     137\n",
            "67.00     128\n",
            "44.00     127\n",
            "95.00     122\n",
            "         ... \n",
            "112.23      1\n",
            "94.69       1\n",
            "176.55      1\n",
            "26.12       1\n",
            "60.47       1\n",
            "Name: Lipoproteina, Length: 812, dtype: int64\n",
            "__________________________\n",
            "HDL\n",
            "0.00     719\n",
            "40.00    310\n",
            "48.00    289\n",
            "43.00    286\n",
            "41.00    285\n",
            "        ... \n",
            "53.19      1\n",
            "53.79      1\n",
            "39.90      1\n",
            "31.06      1\n",
            "28.79      1\n",
            "Name: HDL, Length: 624, dtype: int64\n",
            "__________________________\n",
            "Colesterol total\n",
            "0.00      686\n",
            "147.00    154\n",
            "164.00    120\n",
            "138.00    113\n",
            "136.00    111\n",
            "         ... \n",
            "291.00      1\n",
            "195.04      1\n",
            "88.62       1\n",
            "150.14      1\n",
            "128.03      1\n",
            "Name: Colesterol total, Length: 642, dtype: int64\n",
            "__________________________\n",
            "Trigliceridos\n",
            "0.00      810\n",
            "82.00      88\n",
            "112.00     83\n",
            "106.00     78\n",
            "115.00     77\n",
            "         ... \n",
            "49.30       1\n",
            "522.00      1\n",
            "95.30       1\n",
            "437.00      1\n",
            "59.92       1\n",
            "Name: Trigliceridos, Length: 885, dtype: int64\n",
            "__________________________\n",
            "Creatinina 1 consulta\n",
            "1.00    6593\n",
            "2.00     574\n",
            "3.00      72\n",
            "0.78      69\n",
            "0.86      63\n",
            "        ... \n",
            "2.84       1\n",
            "2.34       1\n",
            "2.95       1\n",
            "3.56       1\n",
            "2.96       1\n",
            "Name: Creatinina 1 consulta, Length: 240, dtype: int64\n",
            "__________________________\n",
            "Tasa de Filtración Glomerular TFG\n",
            "44.63    44\n",
            "54.54    31\n",
            "46.04    28\n",
            "43.21    28\n",
            "49.11    27\n",
            "         ..\n",
            "93.16     1\n",
            "32.36     1\n",
            "76.39     1\n",
            "77.37     1\n",
            "27.24     1\n",
            "Name: Tasa de Filtración Glomerular TFG, Length: 3627, dtype: int64\n",
            "__________________________\n",
            "Estadio de la Enfermedad Renal\n",
            "Estadio 3A    3371\n",
            "Estadio 2     2759\n",
            "Estadio 3B    2583\n",
            "Estadio 4      894\n",
            "Estadio 1      524\n",
            "Estadio 0      134\n",
            "Estadio 5      100\n",
            "Name: Estadio de la Enfermedad Renal, dtype: int64\n",
            "__________________________\n",
            "Microalbuminuria\n",
            "0.00      2757\n",
            "23.00       78\n",
            "11.00       62\n",
            "12.00       60\n",
            "14.00       53\n",
            "          ... \n",
            "10.29        1\n",
            "42.97        1\n",
            "555.00       1\n",
            "23.42        1\n",
            "23.56        1\n",
            "Name: Microalbuminuria, Length: 1528, dtype: int64\n",
            "__________________________\n",
            "Hormona Estimulante de la Tiroides (TSH)\n",
            "0.00     4740\n",
            "2.96       41\n",
            "1.25       31\n",
            "1.82       30\n",
            "1.80       29\n",
            "         ... \n",
            "8.90        1\n",
            "8.42        1\n",
            "10.24       1\n",
            "5.88        1\n",
            "6.88        1\n",
            "Name: Hormona Estimulante de la Tiroides (TSH), Length: 841, dtype: int64\n",
            "__________________________\n",
            "Clase Funcional\n",
            "Clase funcional 2A    5058\n",
            "Clase funcional 2B    4574\n",
            "Clase funcional 3      440\n",
            "Clase funcional 4      201\n",
            "Clase funcional 1       92\n",
            "Name: Clase Funcional, dtype: int64\n",
            "__________________________\n",
            "Creatinina 2 consulta\n",
            "0.00    6002\n",
            "1.00    1911\n",
            "2.00     250\n",
            "0.91      38\n",
            "0.77      38\n",
            "        ... \n",
            "1.86       1\n",
            "2.39       1\n",
            "2.16       1\n",
            "2.40       1\n",
            "0.42       1\n",
            "Name: Creatinina 2 consulta, Length: 216, dtype: int64\n",
            "__________________________\n",
            "Tasa de Filtración Glomerular TFG2\n",
            "0.00     6002\n",
            "46.04      16\n",
            "43.88      13\n",
            "45.37      12\n",
            "43.21      11\n",
            "         ... \n",
            "25.36       1\n",
            "62.33       1\n",
            "29.11       1\n",
            "30.20       1\n",
            "77.26       1\n",
            "Name: Tasa de Filtración Glomerular TFG2, Length: 2558, dtype: int64\n",
            "__________________________\n",
            "Meses de diferencia entre TFG\n",
            "0.0      7863\n",
            "3.0       723\n",
            "6.0       497\n",
            "4.0       322\n",
            "5.0       206\n",
            "12.0      178\n",
            "2.0       163\n",
            "7.0       120\n",
            "1.0        90\n",
            "9.0        57\n",
            "10.0       54\n",
            "8.0        32\n",
            "11.0       23\n",
            "14.0       14\n",
            "13.0       10\n",
            "16.0        5\n",
            "36.0        4\n",
            "20.0        2\n",
            "192.0       1\n",
            "17.0        1\n",
            "Name: Meses de diferencia entre TFG, dtype: int64\n",
            "__________________________\n",
            "Cambio de TFG\n",
            " 0.00     9053\n",
            " 0.35        9\n",
            " 0.18        8\n",
            " 0.42        8\n",
            "-0.37        8\n",
            "          ... \n",
            " 4.38        1\n",
            "-8.69        1\n",
            " 0.86        1\n",
            "-10.28       1\n",
            " 32.43       1\n",
            "Name: Cambio de TFG, Length: 722, dtype: int64\n",
            "__________________________\n",
            "Úlcera de pie diabético\n",
            "No    10324\n",
            "Si       41\n",
            "Name: Úlcera de pie diabético, dtype: int64\n",
            "__________________________\n",
            "Remisión\n",
            "Grupal 2    8636\n",
            "Grupal 3    1270\n",
            "Grupal 1     237\n",
            "Grupal 4     222\n",
            "Name: Remisión, dtype: int64\n",
            "__________________________\n",
            "Diagnóstico Principal\n",
            "I10X - HIPERTENSION ESENCIAL (PRIMARIA)                                             6970\n",
            "E109 - DIABETES MELLITUS INSULINODEPENDIENTE SIN MENCION DE COMPLICACION             470\n",
            "E119 - DIABETES MELLITUS NO INSULINODEPENDIENTE SIN MENCION DE COMPLICACION          454\n",
            "J449 - ENFERMEDAD PULMONAR OBSTRUCTIVA CRONICA NO ESPECIFICADA                       382\n",
            "E108 - DIABETES MELLITUS INSULINODEPENDIENTE CON COMPLICACIONES NO ESPECIFICADAS     362\n",
            "                                                                                    ... \n",
            "M810 - OSTEOPOROSIS POSTMENOPAUSICA SIN FRACTURA PATOLOGICA                            1\n",
            "M080 - ARTRITIS REUMATOIDE JUVENIL                                                     1\n",
            "K070 - ANOMALIAS EVIDENTES DEL TAMANO DE LOS MAXILARES                                 1\n",
            "D508 - OTRAS ANEMIAS POR DEFICIENCIA DE HIERRO                                         1\n",
            "I498 - OTRAS ARRITMIAS CARDIACAS ESPECIFICADAS                                         1\n",
            "Name: Diagnóstico Principal, Length: 127, dtype: int64\n",
            "__________________________\n",
            "Análisis y conducta a seguir\n",
            "paciente de 76 años de edad, con antecedentes de: HTA y ANF. coronaria con 2 angioplastias y 3 stent ultimo en 2015 ADA. ademas hipotiroidismo y HTDS 23/03/2017. Framingham: alto riesgo, índice de fragilidad de groningen:2 normal desplazamiento y apoyo monopodal normal se remite a grupal 2. Estadio renal y TFG ckd.-epimil/min/1.73M2 : no datos CLASIFICACION FUNCIONAL: 2B Oftalmología: se remite. Nutricion: segun grupo de riesgo/clase funcional psicologìa: segun grupo de riesgo/clase funcional odontología: se remite Cita de control en: 1 meses. Vacunas: ya tiene vacunación neumococo no tiene influenza se hace orden. analisis: paciente de 76 años de edad con antecedentes de: HTA y ANF. coronaria con 2 angioplastias y 3 stent ultimo en 2015 ADA. ademas hipotiroidismo y HTDS 23/03/2017. hemodinamicamente estable, sin signos de dificultad respiratoria, con morbilidad no controlada; HTA en metas tomo presión en consulta 135/85 mmHg, LDL no tengo datos, DM no tiene diabetes, paciente quien se solicito praclinicos control en ultima cita para clasificación, por lo que solicito nuevamente exámenes de ingreso, No se hace formula con medicamentos aun tiene para 4 meses mas. no hago modificacion ni ajuste en dosis no es claro control paraclinico. tiene cita pendiente con cardiologia abril/2018, paciente no trae historia clínica por lo que solicito para ampliar y verificar (fev) y control con cardiologia. se cita para 1 mese control con paraclinicos. se remite paciente para valoracion por oftalmologia y odontologia.                                                                                                                                                                                                                                                                                                                                                                                                                                                                                                                                                                                                                                                                                                                                                                                                                                                                                                                                                                                                                                                                                                                                                                                                                                                                                                                                                                                                                                                                                                                                                                                                                                                                                                                                                                                                                                                                                                                                                                                                                                                                                                                                                                                                                                                                                                                                                                                                                                                                                                                                                                                                                                                                                                                                                                                                                                                                                                                                                                                                                                                                                                                                                                                                                                                                                                                                                                                                                                                                                                                                                                                                                                                                                                                                                                                                                                                                                                                                                                                                                                                                                                                                                                                                                                                                                                                                                                                                                                                                                                                                                                                                                                                                                                                                                                                                                                                                                                                                                                                                                                                                                                                                                                                                                                                                                                                                                                                                                                                                                                                                                                                                                                                                 3\n",
            "PLAN y ANALISIS: Paciente con antecedentes de fibromialgia. Cefalea cervicogenica. Neuralgia de Arnold. Osteoartrosis de columna cervical. Dolro crónico axial refractario. Trastorno mixto de ansiedad y depresión, alteraciones del sueño. Aneurisma comunicante posterior izquierda 3 mm( no Qx). Gastritis, glaucoma, HTA , dislipidemia desde hace varios años Actualmente con: **cifras tensionales: hoy tiene cifras tensionales en METAS tras el reposo, sin signos de sobrecarga, ni caída clase funcional, sin infeccion pulmonar activa en el momento, por lo que NO se hacen modificaciones al tratamiento ** Hb1Ac y Glicemia basal: en metas con MALOS habitos alimenticios y transgresiones frecuentes , por lo que NO se modifica tratamiento y se insiste en corregir estos errores ** RCV a 10 años por Framingham : ALTO por sus patologías y edad. LDL: ligeramente fuera de metas ( 94) , toma estatinas para prevención secundaria **TSH valores normales ** ultima Creatinina 0.73 en TFG por CKD EPI 80.3 para ESTADIO RENAL 2 A1. microalbuminuria en metas, aceptando consumo moderado de proteínas al dia, con estabilidad en la función renal durante los últimos meses, SIN delta deterioro ** Desde hace 3 meses viene presentando sensación de ?taco? en orofaringe con disfonai frecuente sin otros sintoimas asociados, tiene ECOGRAFIA DE TIROIDES :Lesiones en el lóbulo tiroideo izquierdo, altamente sospechosas, compatible con una clasificación TI-RADS 5, se recomienda estudio histológico mediante aspiración con aguja fina guiada por ecografía. Bocio. Y del 26/07/18 biopsia guiada por ecografía, de tiroides categoría I muestra insuficiencia para el DX por lo que se sugiere repetir, por lo que se da la orden para caracterizar nodulaciones Por otro lado, EN LOS ÚLTIMOS EN 3 MESES: hubo cambios en el peso ( hoy 59 kg aumento 2 kg) y perímetro abdominal ( 102 cm aumento 3 cm ) , con ACEPTABLE adherencia al tratamiento medico, a las recomendaciones y tratamientos médicos, por lo que se insiste en los cuidados de la misma, contando siempre con apoyo familiar. Evitar consumo de licor ni tabaquismo en los últimos meses, y mejorar la actividad física ( 150 minutos a la semana con alta intensidad, hasta el jadeo) y remito a VALORACION Y MANEJO POR NUTRICIONISTA en grupales **CLASIFICACION FUNCIONAL 2A .indice de fragilidad BUENA Groningen 2 (recalculado) y apoyo monopodal BUENA y caminata BUENA mets 0,83--con factores de riesgo altos y comorbilidades presentes compensadas pero con labilidad emocional reactivada por perdida de la madre recientemente. **Adherente a las recomendaciones y tratamientos medicos: buena adherencia REMISION A: --PSICOLOGIA: envió a actividad grupal --NUTRICIONISTA: envió a actividad grupal, -- ODONTOLOGIA ya tiene la orden, pero NO desea asistir -- OFTALMOLOGIA: ya esta en tratamiento --VACUNACION: Influenza se insiste en su aplicación --ACTIVIDADES GRUPALES: envió a actividades grupales No2 --ACTIVIDADES DE PYP: CITOLOGIA Y MAMOGRAFIA NO APLICA -- GRUPAL DE EPOC: remito al programa NO --Otras especialidades: continuar con psiquiatría, ginecología y clínica del dolor PROXIMA CITA DE CONTROL : ** envio formulación para 3 meses ** Próxima cita de control: noviembre 2018 **exámenes de control: envio exámenes control metabolico y renal para próximo cita RECOMENDACIONES se le explica al paciente en que consiste su estado actual de salud y el resultado de los exámenes y los posibles efectos secundarios que trae el mal control de sus patologías, Se recomienda: ** traer para la próxima cita el carnet de crónicos y la ultima formula medica,-tener presente las fechas para reclamar las formulas para evitar congestionar el servicio y no buscar descompensacion de su patología ** evite el cigarrillo y el licor, evitar el uso de antiácidos y aines por sus efectos a nivel renal Y otros organos ** Se pide iniciar ejercicio 150 minutos semanales en alta intensidad hasta llegar al jadeo ** Llevar una dieta baja en grasa, sal y harinas. no dejar periodos mayores a 3 horas sin comer nada, Evitar el consumo de frutos secos , carnes rojas y embutidos, preferir pollo o pescado **No fumar ni tomar licor. Control del estrés. * consultar por urgencias en caso de presentar dolor de cabeza intenso que no cede a los analgésicos, visión borrosa, dificultad para respirar, dolor en pecho y sudoración excesiva, desviación de la lengua, incapacidad para abrir o cerrar los ojos, rigidez o entumecimiento en las extremidades ** No automedicarse y no suspender el tratamiento sin orden medica ** Se pide mayor adherencia al tratamiento y recomendaciones medicas CUIDADOS ESPECIFICOS DE LOS PIES: evitar caminar sin calzado, evitar calzado destapado, uso de zapato suave y blando. revisar muy bien los zapatos y las medias antes de ponérselos. evitar humedad en pies. bañarse con chanclas y secarles al sol. crema hidratante varias veces al día. evitar humedad secarles muy bien después del baño. Evitar usar tumba callos. aplicar vaselina pura en las noches y dormir con medias de algodón de colores claros preferiblemente o crema BAvaria o work foot 2 veces al dia.. o cremas con silicona o aloe vera-- lavar 2 veces por semana con shampoo de ketoconazol. Evitar hurgarse las uñas, cortar las uñas de forma cuadrada. al arreglarse las uñas usar instrumentos propios y personales. RECOMENDACIONES EPOC: Muévase despacio. Lleve a todas partes sus inhaladores o su oxígeno. No cargue peso innecesario. Trate de hacer actividades sentado. Evite usar ropa difícil de quitar o poner. Use rampas o ascensores cuando se sienta cansado. Trate de no hablar mientras esta realizando sus actividades. Pida ayuda para hacer actividades como barrer o trapear. Descanse siempre que este cansado. ¿ Como hacer viajes ? Cuéntele a su médico y pídale consejo. Lleve sus documentos médicos más importantes. Lleve la lista de medicación que toma. Lleve una lista de teléfonos de sus familiares. Consiga un seguro médico para el viaje y aprenda como usarlo. Lleve todos los medicamentos, marcados y en los envases originales. ¿ Puedo viajar con oxígeno ? Si puede viajar con oxígeno pero debe: Saber donde puede recargarlo. Llevar todo su equipo personal. Avisar en el hotel o aerolínea que usted necesita oxígeno. Lleva la autorización del médico para su viaje. Solicite silla de ruedas para su traslado. ¿ Cómo hacer ejercicios ? Vaya caminando a los sitios que sean cercanos y nunca olvide el oxígeno. Si se siente capaz de subir escaleras hágalo, pero no exceda. En el día levántese cada hora para realizar estiramientos. Practique alguna actividad ojala acompañado, escoja la que más le gusta hacer. ¿ Que responsabilidades tiene el paciente ? Seguir las recomendaciones de los tratamientos en casa. Asistir oportunamente a las citas. Aplicar todo lo aprendido sobre a enfermedad en su vida y en sus actividades diarias. Tener la EPOC no debe ser limitante para su vida, lo más importante es ser responsable con su medicación y con sus actividades diarias.    2\n",
            "Paciente 62 años, con antecedente HTA, Dislipidemia. Obesidad. Insuficiencia venosa, hiperreactividad de vía aérea. *Paciente en metas de control de presión arterial, no se cambia tratamiento antihipertensivo, *Estadio renal 1A1, continuamos controlado factores de riesgo. *Dislipidemia, en metas de control. *Insuficiencia venosa en seguimiento por vascular, con requerimiento de impacto en el peso. *Obesidad grado II. *PreDM, ordeno metformina para ayudar en control de síndrome metabólico. *Evaluada por Ginecologia con Dx de inflamación crónica no especifica. *Pendiente valoración por Urologia, ordenada por G.O por Incontinencia urinaria de esfuerzo. *Paciente con hiperreactividad de vía aérea, espirometria descarta EPOC. *Pendiente nuevo control por nutrición, requiere manejo interdisciplinario para perdida de peso. *Ordeno valoracion por ortopedia con RX de rodillas. *control en 3 meses. CLASE FUNCIONAL: AHA: A NYHA: I Framingham: 8.6% Estadio renal y TFG: 79 ,l/,im estadio 2A1, previo 91.3 ml/min Estadio 1A **DELTA DE DETERIORO: -1.74 envejecimiento renal. Metas de control de -HTA: en metas -DM: tiene riesgo pero no tiene diabetes -LDL: en metas Oftalmología: pendiente agendar cita. Nutrición: Dic/2017. psicología:se solicita CLASIFICACION FUNCIONAL: 2A Recomendaciones y Signos de Alarma: Se aconseja dieta baja en grasa, sal y azúcar: tratar que todo cocinado, al vapor o a la plancha (no fritos o en poca cantidad), usar aceite de oliva en ensaladas, tambien aceite de canola u omega 3 para los fritos, comer verduras y frutas. evitar cigarrillo, tinto y alcohol. realizar ejercicio de alta intensidad minimo una hora al dia por 3 dias a la semana, ejemplo: bicicleta, patinaje, futbol, clases de rumba aerobios, spinning, caminar pero sudando, no caminana lenta, gimnasio, pilates, hidroterapia y o trotar. realizar actividades ludicas y recreativas dos veces por semana. vigilar signos de alarma cardiovascular como: dolor de cabeza muy fuerte con pérdida del conocimiento o con pérdida de la fuerza en una parte del cuerpo, desviación o torcedura de la boca, habla con la lengua enredada. mucha sed, mucho hambre. dolor en el pecho como si le estuvieran apretando que se le pasa para el cuello o para el brazo u hombro izquierdo.*******acudir inmediatamente a urgencias.                                                                                                                                                                                                                                                                                                                                                                                                                                                                                                                                                                                                                                                                                                                                                                                                                                                                                                                                                                                                                                                                                                                                                                                                                                                                                                                                                                                                                                                                                                                                                                                                                                                                                                                                                                                                                                                                                                                                                                                                                                                                                                                                                                                                                                                                                                                                                                                                                                                                                                                                                                                                                                                                                                                                                                                                                                                                                                                                                                                                                                                                                                                                                                                                                                                                                                                                                                                                                                                                                                                                                                                                                                                                                                                                                                                                                                                                                                                                                                                                                                                                                                                                                                                                                                                                                                                                                                                                                                                                                                                                                                                                                                                                                                                                                                                                                                                              2\n",
            "Paciente de 57 años, HTA. hipotiroidismo. gastritis. trastorno de ansiedad. Independiente para su ABC diario, Framingham: moderado resgo, índice de fragilidad de groningen:2 normal desplazameinto y apoyo monopodal normal se remite a grupal 2. Estadio renal y TFG ckd.-epimil/min/1.73M2 : 65.5 kdigo: G2-A1, CLASIFICACION FUNCIONAL: 2A Oftalmología: tiene remision aun no ha solicitado la cita. Nutricion: ya fue valorada el 11/07/2017 psicologìa: segun grupo de riesgo/clase funcional odontología: se remite. Cita de control en: 3 meses. Vacunas: no tiene vacunación influenza se hace orden. análisis: Paciente de 57 años, HTA. hipotiroidismo. gastritis. trastorno de ansiedad. hemodinamicamente estable sin signos de dificultad respiratoria, con morbilidad no controlada HTA en metas, LDL en este momento esta con 80 mg atorvastatina bajo a 40 mg, DM prediabetes. con respecto a niveles de TSH niveles normales según ultimo registro. solicito paraclinicos seguimeinto proxima cita nueva clasificacion, control 3 meses con resultados. se hace formula 3 meses no se hace cambios ni ajustes en dosis.                                                                                                                                                                                                                                                                                                                                                                                                                                                                                                                                                                                                                                                                                                                                                                                                                                                                                                                                                                                                                                                                                                                                                                                                                                                                                                                                                                                                                                                                                                                                                                                                                                                                                                                                                                                                                                                                                                                                                                                                                                                                                                                                                                                                                                                                                                                                                                                                                                                                                                                                                                                                                                                                                                                                                                                                                                                                                                                                                                                                                                                                                                                                                                                                                                                                                                                                                                                                                                                                                                                                                                                                                                                                                                                                                                                                                                                                                                                                                                                                                                                                                                                                                                                                                                                                                                                                                                                                                                                                                                                                                                                                                                                                                                                                                                                                                                                                                                                                                                                                                                                                                                                                                                                                                                                                                                                                                                                                                                                                                                                                                                                                                                                                                                                                                                                                                                                                                                                                                                                                                                                                                                              2\n",
            "Paciente de 75 años de edad, con antecedentes de artritis reumatoidea y osteoartrosis. dedos en gatillo. desprendimiento de retina OD, insuficiencia venosa y arterial de MsIs. HTA. Dislipidemia. Osteosarcoma rodilla izquierda desde hace varios años. Independiente para su ABC diario, Framingham: moderado riesgo, índice de fragilidad de groningen:3 normal desplazamiento y apoyo monopodal normal se remite a gruopal 2. Estadio renal y TFG ckd.-epimil/min/1.73M2: 63.4 cockroft: 59.49mil/min kdigo: G2-A1, **DELTA DE DETERIORO: -0,22 CLASIFICACION FUNCIONAL: 2A Oftalmología: ya fue valorada Nutricion: segun grupo de riesgo/clase funcional psicologìa: segun grupo de riesgo/clase funcional odontología: tiene orden aun no ha solicitado la cita. Cita de control en: 3 meses. Vacunas: se hace orden. Análisis: Paciente de 75 años de edad, con antecedentes de artritis reumatoidea y osteoartrosis. dedos en gatillo. desprendimiento de retina OD, insuficiencia venosa y arterial de MsIs. HTA. Dislipidemia. hemodinamicamente estable sin signos de dificultad respiratoria, con morbilidad controlada HTA en metas, LDl fuera de metas aumento dosis atorvastatina 40 mg cada dia, DM no tiene diabetes glucosa 90 mg/dl. se hace formula por 3 meses, solicito paraclinicos seguimiento y nueva clasificación próxima cita. por criterio stopp start inicio omeprazol, solicito eco doppler venoso y arterial, de miembros inferiores. ** se pide iniciar ejercicio 150 minutos semanales en alta intensidad hasta llegar al jadeo * *llevar una dieta baja en grasa, sal y harinas. no dejar periodos mayores a 3 horas sin comer nada, Evitar el consumo de frutos secos , carnes rojas y embutidos, preferir pollo o pescado **No fumar ni tomar licor. Control del estrés. * consultar por urgencias en caso de presentar dolor de cabeza intenso que no cede a los analgésicos, visión borrosa, dificultad para respirar, dolor en pecho y sudoración excesiva, desviación de la lengua, incapacidad para abrir o cerrar los ojos, rigidez o entumecimiento en las extremidades ** No automedicarse y no suspender el tratamiento sin orden medica ** se pide mayor adherencia al tratamento y recomendaciones medicas Teniendo en cuenta los antecedentes de osteoartrosis y artritis sin tto actual y muy sintomática aunque sin deformidades ni edemas, decido enviar paraclinicos de control para definir el manejo a seguir                                                                                                                                                                                                                                                                                                                                                                                                                                                                                                                                                                                                                                                                                                                                                                                                                                                                                                                                                                                                                                                                                                                                                                                                                                                                                                                                                                                                                                                                                                                                                                                                                                                                                                                                                                                                                                                                                                                                                                                                                                                                                                                                                                                                                                                                                                                                                                                                                                                                                                                                                                                                                                                                                                                                                                                                                                                                                                                                                                                                                                                                                                                                                                                                                                                                                                                                                                                                                                                                                                                                                                                                                                                                                                                                                                                                                                                                                                                                                                                                                                                                                                                                                                                                                                                                                                                                                                                                                                                                                                                                                                                                                                                                                                                                                                                  2\n",
            "                                                                                                                                                                                                                                                                                                                                                                                                                                                                                                                                                                                                                                                                                                                                                                                                                                                                                                                                                                                                                                                                                                                                                                                                                                                                                                                                                                                                                                                                                                                                                                                                                                                                                                                                                                                                                                                                                                                                                                                                                                                                                                                                                                                                                                                                                                                                                                                                                                                                                                                                                                                                                                                                                                                                                                                                                                                                                                                                                                                                                                                                                                                                                                                                                                                                                                                                                                                                                                                                                                                                                                                                                                                                                                                                                                                                                                                                                                                                                                                                                                                                                                                                                                                                                                                                                                                                                                                                                                                                                                                                                                                                                                                                                                                                                                                                                                                                                                                                                                                                                                                                                                                                                                                                                                                                                                                                                                                                                                                                                                                                                                                                                                                                                                                                                                                                                                                                                                                                                                                                                                                                                                                                                                                                                                                                                                                                                                                                                                                                                                                                                                                                                                                                                                                                                                                                                                                                                                                                                                                                                                                                                                                                                                                                                                                       ..\n",
            "paciente RCV alto, clase funcional: 2B requiere apoyo de grupo interdisciplinario#2 mets:6.29 índice de fragilidad de groningen:2 (NORMAL) actualmente con HTA controlada, con enfermedad coronaria severa requeire continuar en seguimiento por cardiologia, con dm no control hba1c: 7.5 %, decido dejar igual dosis de insulina glargina 22 uds /dia inicio esquema basal plus con insulina glulisina 0 - 4 - 0 con EPOC gold 2 del grupo B, ya en manejo ERC E4 A1 evitar aines, pendiente cita con nefrologia, pendiente cita con todas las especialidades, con ITB derecho: 0.78 izquierdo: 0.57 ( anormal) ya tiene resultado pletismografia arterial de msis, tiene orden de vascular periferico no ha conseguido la cita, mantener vacunación al dia, pendiente vacunacion de influenza ya tiene orden de neumococo, no formulo medicamento de control ya que tiene 5 entregas pendientes control en 1 mes con glucometrias, debe continuar usando con juicio el tratamiento, en horario establecido y sin falta. evitar consumo de licor o cigarrillo, sustancias psicoactívas realizar actividad física ( caminar trotar, bicicleta, natación ) minimo 5 veces/ semana, durante 30 minutos, dieta baja en sal, grasas, harinas, cero dulces, con consumo de frutas y verduras, estar atento signos de alarma ( cefalea, mareos, disnea, polidipsia, poliúria, polifágia, claudicación edema miembros inferiores , etc), en caso de dolor de pecho o sudoración excesiva con desaliento o desmayo acudir a urgencias. cuidados de los pies, usar calzado cómodo que no talle, buen corte de uñas,                                                                                                                                                                                                                                                                                                                                                                                                                                                                                                                                                                                                                                                                                                                                                                                                                                                                                                                                                                                                                                                                                                                                                                                                                                                                                                                                                                                                                                                                                                                                                                                                                                                                                                                                                                                                                                                                                                                                                                                                                                                                                                                                                                                                                                                                                                                                                                                                                                                                                                                                                                                                                                                                                                                                                                                                                                                                                                                                                                                                                                                                                                                                                                                                                                                                                                                                                                                                                                                                                                                                                                                                                                                                                                                                                                                                                                                                                                                                                                                                                                                                                                                                                                                                                                                                                                                                                                                                                                                                                                                                                                                                                                                                                                                                                                                                                                                                                                                                                                                                                                                                                                                                                                                                                                                                                                                                                                                                                                                                                                                                                                                                                                             1\n",
            "Paciente de 66 años con antecedente de HTA, PreDM, HPB; Dislipidemia, Enfermedad coronaria 3 IAM con revascularización y 1 stent. Vertigo. *Paciente con HTA controlada, no ajusto medicacion *Paciente que presenta diagnostico de PreDM, por PTOG y glicada. *Paciente con Vértigo, al parecer postraumatico, en tratamiento con difenhidramina, persiste síntomas a pesar de uso de medicamentos, ya evaluado por Otorrinolaringologia que considera debe y requiere manejo por Neurologia la cual está pendiente. *Dislipidemia con LDL fuera de metas, ajusto tratamiento. *Tiene antecedente de prostatectomia incompleta, ya evaluado por Urologia con cistoscopia, pendiente control, sin embargo no se considera por esta especialidad, que sus sintomas obedezcan a alteraciones urologicas. *Tiene Dolor en miembros inferiores que obedece a hallazgo en RX de columna con discopatia y estrechamiento foraminal, compromiso de canal medular estrecho, pendiente valoracion de Ortopedia con resultado de RMN ordenado por dicha especialidad. *Estadio renal 2A1, insisto en dejar uso de analgesicos por su efecto nefrotoxico, se los señalo cuales no deben ser usados. *Cuenta con Espirometria que hace Dx EPOC Gold 1, Clase A. *Traer HC de Cardiologia. CLASE FUNCIONAL: AHA: B NYHA: I Framingham: >25% Estadio renal y TFG: 87 ml/min Estadio 2A1, previo 89 ml/min Estadio 2A1 **DELTA DE DETERIORO: Metas de control de -HTA: en metas -DM: preDM -LDL: fuera de metas, ajusto estatinas. -EPOC: espirometrico Clase A Gold 1, sin tto actual. CLASIFICACIÓN FUNCIONAL: 2A Oftalmología: pendiente cita. Nutricion: segun grupo de riesgo psicologìa: segun grupo de riesgo Vacunas: vacunación influenza y neumococo. Hábitos saludables: cepillado de dientes, uso de seda dental y ejercicio: alimentación: sana regular SE BRINDA EDUCACION SOBRE CAMBIO EN LA NUTRICION, ACTIVIDAD FISICA Y AUTOCUIDADO. Recomendacione y Signos de Alarma: Vigilar signos de alarma cardiovascular como: dolor de cabeza muy fuerte con pérdida del conocimiento o con pérdida de la fuerza en una parte del cuerpo, desviación o torcedura de la boca, habla con la lengua enredada. mucha sed, mucho hambre. dolor en el pecho como si le estuvieran apretando que se le pasa para el cuello o para el brazo u hombro izquierdo.*******acudir inmediatamente a urgencias.                                                                                                                                                                                                                                                                                                                                                                                                                                                                                                                                                                                                                                                                                                                                                                                                                                                                                                                                                                                                                                                                                                                                                                                                                                                                                                                                                                                                                                                                                                                                                                                                                                                                                                                                                                                                                                                                                                                                                                                                                                                                                                                                                                                                                                                                                                                                                                                                                                                                                                                                                                                                                                                                                                                                                                                                                                                                                                                                                                                                                                                                                                                                                                                                                                                                                                                                                                                                                                                                                                                                                                                                                                                                                                                                                                                                                                                                                                                                                                                                                                                                                                                                                                                                                                                                                                                                                                                                                                                                                                                                                                                                                                                                                                                                                                                                                                                             1\n",
            "Paciente de 82 años con antecedente HTA, DM tipo 2 (20147), hipotiroidismo,sobrepeso, . anemia Ferropenica por HTD inferior. Enfermedad Diverticular. Independiente para su ABC diario, Framingham: alto riesgo, índice de fragilidad de groningen:2 normal desplazamiento y apoyo monopodal disminuido se remite a grupal 3, Estadio renal y TFG ckd.-epimil/min/1.73M2: kdigo: G1A1, **DELTA DE DETERIORO: CLASIFICACION FUNCIONAL: 2A Oftalmología: ya fue valroada en febrero de 2017 Nutricion: segun grupo de riesgo/clase funcional psicologìa: segun grupo de riesgo/clase funcional odontología: tiene remisión aun no ha solicitado la cita. Cita de control en: 3 meses. Vacunas: ya tiene vacunación influenza analisis: Paciente de 82 años con antecedente HTA, DM tipo 2 (2014), hipotiroidismo,sobrepeso, . anemia Ferropenica por HTD inferior. Enfermedad Diverticular. hemodinamicamente estable sin signos de dificultad respiratoria, con morbilidad controlada HTA en metas, LDL en metas, DM controlada , tolera tratamiento farmacologico, requeire tratamiento farmacologico se hace formula por 3 meses. no solicito paraclinicos próxima cita no hago cambios ni ajustes en dosis de medicamentos. paciente quien hace 8 dias asistio a cita medicina general antes del ingraso a consulta con astenia adinamia diaforesis mareo quien requirio ingraso a sala de reanimación, se realizo ekg seriado son elevación del ST, no refirió nunca dolor precordial, paciente quien luego de observación se da de alta con indicaciones y signos de alarma. el dia de hoy no refiere síntomas. Recomendacione y Signos de Alarma: Vigilar signos de alarma cardiovascular como: dolor de cabeza muy fuerte con pérdida del conocimiento o con pérdida de la fuerza en una parte del cuerpo, desviación o torcedura de la boca, habla con la lengua enredada. mucha sed, mucho hambre. dolor en el pecho como si le estuvieran apretando que se le pasa para el cuello o para el brazo u hombro izquierdo.*******acudir inmediatamente a urgencias. **acudir inmediatamente a urgencias.                                                                                                                                                                                                                                                                                                                                                                                                                                                                                                                                                                                                                                                                                                                                                                                                                                                                                                                                                                                                                                                                                                                                                                                                                                                                                                                                                                                                                                                                                                                                                                                                                                                                                                                                                                                                                                                                                                                                                                                                                                                                                                                                                                                                                                                                                                                                                                                                                                                                                                                                                                                                                                                                                                                                                                                                                                                                                                                                                                                                                                                                                                                                                                                                                                                                                                                                                                                                                                                                                                                                                                                                                                                                                                                                                                                                                                                                                                                                                                                                                                                                                                                                                                                                                                                                                                                                                                                                                                                                                                                                                                                                                                                                                                                                                                                                                                                                                                                                                                                                                                                                                                                                            1\n",
            "paciente RCV alto, clase funcional:2B con funcion renal alterada con mets:6.23 indice groningen: 4 (NORMAL), requiere apolyo de grupo interdisciplinario # 3 paciente que desplaza solo con ayuda de baston, realiza sus actividades diarias, sin incapacidad con HTA no controlda, con DM con hba1c: 6.7% con glucometrias NO controlada basado en glucometrias ajusto dosis de insluna glulisina 10 - 5 - 10 continua igual insulina glargina a 28 uds /*dia, con ERC E5 A3 con progresion de E4 a 5, con albuminuria previa ( 4807) - (6915) ultima(2078) hipertrigliceridemia: 617mg/dl, debe continuar en seguimiento por nefrologia, se debe reprogramar la cita, seguir realizando glucometrías como se indica entrego rejilla para registro, mantener vacunacion al dia,ya se coloco influenza continuar con nutricion remito a oftalmologia, no formulo medicamentos de control ya que tiene 2 entregas mas control en 1 mes, debe continuar usando con juicio el tratamiento, en horario establecido y sin falta. evitar consumo de licor o cigarrillo, sustancias psicoactívas realizar actividad física a tolerancia dieta baja en sal, grasas, harinas, cero dulces, con consumo de frutas y verduras, estar atento signos de alarma ( cefalea, mareos, disnea, polidipsia, poliúria, polifágia, claudicación edema miembros inferiores , etc), en caso de dolor de pecho o sudoración excesiva con desaliento o desmayo acudir a urgencias. cuidados de los pies, usar calzado cómodo que no talle, buen corte de uñas,                                                                                                                                                                                                                                                                                                                                                                                                                                                                                                                                                                                                                                                                                                                                                                                                                                                                                                                                                                                                                                                                                                                                                                                                                                                                                                                                                                                                                                                                                                                                                                                                                                                                                                                                                                                                                                                                                                                                                                                                                                                                                                                                                                                                                                                                                                                                                                                                                                                                                                                                                                                                                                                                                                                                                                                                                                                                                                                                                                                                                                                                                                                                                                                                                                                                                                                                                                                                                                                                                                                                                                                                                                                                                                                                                                                                                                                                                                                                                                                                                                                                                                                                                                                                                                                                                                                                                                                                                                                                                                                                                                                                                                                                                                                                                                                                                                                                                                                                                                                                                                                                                                                                                                                                                                                                                                                                                                                                                                                                                                                                                                                                                                                                                                                   1\n",
            "DX DE HTA ESENCIAL CONTROLADA, CONANTECEDENTE DE ACV HEMORRAGICO POR ENAURISMA CEREBRAL ROTO- CONSECUELAS DE HEMOPARESIA DERECHA YDISAETRIA, EAOC PORA.N.N. CORREGIDO QUIRURGICAMENTE ENMAYO /2018 - MUY ALTO RCV. HIPOTIRODIISMO ?? REFLUJO G-L. HIPERURICEMIA, C-LDL 100 POR ENCIMA DE METAS, ERC E 3B/A1 Y TFG 32. PORCKDEPO 32. CLASE FUNCIONAL 3- SE REMITE A GRUPALES 3 - SE DEJA IGUAL YCITA EN 3 MESES CION LAB.CLINICO ORDERNADO POR MEDICO INTERNSITA. ENFASI N CAMIANRENSUPERFICIES PLANAS, ACOMPAÑADA 10-20 MINUTOS DIARIOS, DIETA VBAJA EN SAL, AZUCARES, HARINAS YGRASAS, RICA EN ELGUMBRES,ENSLADAS, FRUTAS YCARNES MAGRAS,                                                                                                                                                                                                                                                                                                                                                                                                                                                                                                                                                                                                                                                                                                                                                                                                                                                                                                                                                                                                                                                                                                                                                                                                                                                                                                                                                                                                                                                                                                                                                                                                                                                                                                                                                                                                                                                                                                                                                                                                                                                                                                                                                                                                                                                                                                                                                                                                                                                                                                                                                                                                                                                                                                                                                                                                                                                                                                                                                                                                                                                                                                                                                                                                                                                                                                                                                                                                                                                                                                                                                                                                                                                                                                                                                                                                                                                                                                                                                                                                                                                                                                                                                                                                                                                                                                                                                                                                                                                                                                                                                                                                                                                                                                                                                                                                                                                                                                                                                                                                                                                                                                                                                                                                                                                                                                                                                                                                                                                                                                                                                                                                                                                                                                                                                                                                                                                                                                                                                                                                                                                                                                                                                                                                                                                                                                                                                                                                                                                                                                                                                                                                              1\n",
            "Name: Análisis y conducta a seguir, Length: 10272, dtype: int64\n",
            "__________________________\n",
            "Fecha Próximo Control\n",
            "2018-02-28    87\n",
            "2018-03-12    78\n",
            "2018-03-01    70\n",
            "2018-04-23    70\n",
            "2018-10-30    58\n",
            "              ..\n",
            "2017-02-12     1\n",
            "2017-03-09     1\n",
            "2017-08-27     1\n",
            "2017-02-09     1\n",
            "2018-04-28     1\n",
            "Name: Fecha Próximo Control, Length: 592, dtype: int64\n",
            "__________________________\n",
            "Tipo control\n",
            "Sin dato    10365\n",
            "Name: Tipo control, dtype: int64\n",
            "__________________________\n",
            "Ambito según el médico\n",
            "Ambulatorio     10105\n",
            "Domiciliario      259\n",
            "Sin dato            1\n",
            "Name: Ambito según el médico, dtype: int64\n",
            "__________________________\n"
          ]
        }
      ]
    },
    {
      "cell_type": "markdown",
      "source": [
        "###Crónicos pos-pandemia"
      ],
      "metadata": {
        "id": "sCx0AWYSt4wr"
      }
    },
    {
      "cell_type": "code",
      "source": [
        "percent_null(cronicos_pos)"
      ],
      "metadata": {
        "colab": {
          "base_uri": "https://localhost:8080/"
        },
        "id": "Z2FskIvNtX7Z",
        "outputId": "5fc58076-cc99-4d2c-b75a-2f7a20f709e3"
      },
      "execution_count": 427,
      "outputs": [
        {
          "output_type": "stream",
          "name": "stdout",
          "text": [
            "YEAR -> 0  |  0.0 %\n",
            "MES -> 0  |  0.0 %\n",
            "Fecha diligenciamiento -> 0  |  0.0 %\n",
            "Hora -> 0  |  0.0 %\n",
            "Atención -> 0  |  0.0 %\n",
            "Ingreso -> 0  |  0.0 %\n",
            "Tipo -> 0  |  0.0 %\n",
            "NRODOC -> 0  |  0.0 %\n",
            "Peso -> 0  |  0.0 %\n",
            "Talla -> 0  |  0.0 %\n",
            "IMC -> 0  |  0.0 %\n",
            "Clasificación IMC -> 0  |  0.0 %\n",
            "Saturación de Oxígeno (%) -> 117  |  0.45 %\n",
            "Perímetro Muslo -> 0  |  0.0 %\n",
            "Perímetro Cintura -> 0  |  0.0 %\n",
            "Pliegue Triceps -> 0  |  0.0 %\n",
            "Pliegue Abdomen -> 0  |  0.0 %\n",
            "Pliegue Muslo -> 0  |  0.0 %\n",
            "Sumatoria Pliegues -> 0  |  0.0 %\n",
            "Presión Arterial Sistólica -> 0  |  0.0 %\n",
            "Presión Arterial Diastólica -> 0  |  0.0 %\n",
            "Frecuencia Cardíaca en reposo -> 0  |  0.0 %\n",
            "Auto-calificacion Nivel de Ejercicio -> 0  |  0.0 %\n",
            "Constantes -> 0  |  0.0 %\n",
            "METS -Índice Metabólico -> 0  |  0.0 %\n",
            "VO2 - Máxima Cantidad de Oxígeno -> 0  |  0.0 %\n",
            "Índice de Fragilidad Groningen -> 2  |  0.01 %\n",
            "Calificación (Índice de Fragilidad) -> 0  |  0.0 %\n",
            "Tiempo en Segundos (Apoyo Monopodal) -> 0  |  0.0 %\n",
            "Calificación (Apoyo Monopodal) -> 0  |  0.0 %\n",
            "Tiempo en Segundos (Recorrer 5 metros) -> 0  |  0.0 %\n",
            "Velocidad (m/s) -> 0  |  0.0 %\n",
            "Calificación Velocidad -> 0  |  0.0 %\n",
            "Test Findrisc -> 12677  |  48.93 %\n",
            "Índice Tobillo/Brazo -> 6316  |  24.38 %\n",
            "Presión arterial registro medico -> 10004  |  38.61 %\n",
            "Diabetes Mellitus -> 504  |  1.95 %\n",
            "Tipo diabetes mellitus -> 13647  |  52.67 %\n",
            "Es insulinorequiriente -> 25909  |  100.0 %\n",
            "Tiempo con el diagnóstico -> 14627  |  56.46 %\n",
            "Glicemia -> 504  |  1.95 %\n",
            "Fecha glicemia -> 2372  |  9.16 %\n",
            "Hemoglobina Glicada -> 504  |  1.95 %\n",
            "Fecha hemoglobina glicosilada -> 3536  |  13.65 %\n",
            "Control Diabetes -> 504  |  1.95 %\n",
            "Tiene riesgo de tener Diabetes Mellitus -> 22596  |  87.21 %\n",
            "Tiene HTA -> 504  |  1.95 %\n",
            "Control HTA -> 504  |  1.95 %\n",
            "Tiene riesgo de tener HTA -> 504  |  1.95 %\n",
            "Tiempo con el diagnóstico1 -> 6928  |  26.74 %\n",
            "Tiene EPOC -> 504  |  1.95 %\n",
            "EPOC (Clasificación BODEX) -> 16625  |  64.17 %\n",
            "Enfermedad Coronaria (En el último año) -> 504  |  1.95 %\n",
            "Insuficiencia Cardíaca -> 504  |  1.95 %\n",
            "Valvulopatía -> 504  |  1.95 %\n",
            "Arritmia o paciente con dispositivo -> 504  |  1.95 %\n",
            "Sufre de alguna enfermedad cardiovascular -> 504  |  1.95 %\n",
            "Tabaquismo -> 504  |  1.95 %\n",
            "Cuantos cigarrillos día -> 504  |  1.95 %\n",
            "Años de Consumo -> 57  |  0.22 %\n",
            "Lipoproteina -> 504  |  1.95 %\n",
            "Fecha LDL -> 11892  |  45.9 %\n",
            "HDL -> 504  |  1.95 %\n",
            "Fecha HDL -> 1980  |  7.64 %\n",
            "Colesterol total -> 504  |  1.95 %\n",
            "Fecha colesterol total -> 2005  |  7.74 %\n",
            "Trigliceridos -> 504  |  1.95 %\n",
            "Fecha trigliceridos -> 2054  |  7.93 %\n",
            "Clasificación de Framinghan -> 504  |  1.95 %\n",
            "Creatinina 1 consulta -> 504  |  1.95 %\n",
            "Fecha creatinina1 -> 1521  |  5.87 %\n",
            "Tasa de Filtración Glomerular TFG -> 504  |  1.95 %\n",
            "Estadio de la Enfermedad Renal -> 1521  |  5.87 %\n",
            "Microalbuminuria -> 504  |  1.95 %\n",
            "Fecha microalbuminuria -> 4572  |  17.65 %\n",
            "Hormona Estimulante de la Tiroides (TSH) -> 504  |  1.95 %\n",
            "Clase Funcional -> 504  |  1.95 %\n",
            "Creatinina 2 consulta -> 504  |  1.95 %\n",
            "Fecha creatinina2 -> 9729  |  37.55 %\n",
            "Tasa de Filtración Glomerular TFG2 -> 504  |  1.95 %\n",
            "Meses de diferencia entre TFG -> 504  |  1.95 %\n",
            "Cambio de TFG -> 504  |  1.95 %\n",
            "Clasificación Cambio de TFG -> 18987  |  73.28 %\n",
            "Basciloscopia -> 7321  |  28.26 %\n",
            "Úlcera de pie diabético -> 2966  |  11.45 %\n",
            "Remisión -> 504  |  1.95 %\n",
            "Diagnóstico Principal -> 505  |  1.95 %\n",
            "Análisis y conducta a seguir -> 505  |  1.95 %\n",
            "Tiene próximo control -> 505  |  1.95 %\n",
            "Fecha Próximo Control -> 1322  |  5.1 %\n",
            "Tipo control -> 1322  |  5.1 %\n",
            "Requiere cita de morbilidad -> 505  |  1.95 %\n",
            "Fecha cita morbilidad -> 18768  |  72.44 %\n",
            "Ambito según el médico -> 0  |  0.0 %\n",
            "Diagnostico1 -> 7385  |  28.5 %\n",
            "NombreDiagnostico1 -> 7385  |  28.5 %\n",
            "Diagnostico2 -> 11404  |  44.02 %\n",
            "NombreDiagnostico2 -> 11404  |  44.02 %\n"
          ]
        }
      ]
    },
    {
      "cell_type": "code",
      "source": [
        "#Mirar las categorías de las variables que tengan más del 30% de nulos\n",
        "shape = cronicos_pos.shape\n",
        "lista = cronicos_pos.columns\n",
        "lista2 = []\n",
        "for i in lista:\n",
        "    nulos_pos = (cronicos_pos[i].isnull().sum()/shape[0])*100\n",
        "    if nulos_pos > 30:\n",
        "        cronicos_pos = cronicos_pos.drop(i, axis = 1)"
      ],
      "metadata": {
        "id": "-BFWSnBPuHTk"
      },
      "execution_count": 428,
      "outputs": []
    },
    {
      "cell_type": "code",
      "source": [
        "cronicos_pos.info()\n",
        "#cintura es importante porque es un índice predictor de riesgo cardiovascular (riesgo de infarto) mujeres>90cm y hombres>95cm\n",
        "\n",
        "#sumatoria de pliegues permite mirar el porcentaje de grasa que es predicto a una trombosis, accidente cerebrovascular\n",
        "#indice tobillo/brazo si puede ser importante , pero es raro que lo tomen \n",
        "\n",
        "#HTA hipertensión arterial\n",
        "#HDL colesterol (grasa buena)\n",
        "\n",
        "#Eliminar constantes\n",
        "#tiempo diagnostico1\n",
        "#Fecha glicemia\n",
        "#Fecha hemoglobina glicosilada\n",
        "#Fecha HDL\n",
        "#Fecha colesterol total\n",
        "#Fecha trigliceridos\n",
        "#Fecha creatinina1\n",
        "#Fecha microalbuminuria \n",
        "#Creatinina 1 consulta -> es necesario conservar creatinina 2, el valor más actualizado\n",
        "#Tasa de Filtración Glomerular TFG -> se deja el 2 porque no estamos evaluando cambios en el tiempo sino causas de hospitalización\n",
        "#Cambio de TFG\n",
        "#Meses de diferencia entre TFG\n",
        "#Remision -> no tenemos información sobre los grupos\n",
        "#Basiloscopia -> con la fecha no se puede conocer el resultado\n",
        "\n",
        "#Índice Tobillo/Brazo - es posible que no hayan datos porque no se toman al identificar que el paciente no tiene riesgo de enfermedad vascular periferica\n",
        "\n",
        "#para las fechas solo es importante mencionar el rango en el que fueron tomados los examenes - verificar que estén en el rango\n",
        "\n",
        "\n",
        "#el indice tobillo/brazo antes de pandemia no se implementaba comunmente. Con la pandemia aumentó el sedentarismo y el riesgo cardiovascular el cual puede medirse por medio de esta prueba\n",
        "\n"
      ],
      "metadata": {
        "colab": {
          "base_uri": "https://localhost:8080/"
        },
        "id": "mUntDXKxvHb3",
        "outputId": "354b4587-12c1-47d9-f68c-d0fc4a889492"
      },
      "execution_count": 429,
      "outputs": [
        {
          "output_type": "stream",
          "name": "stdout",
          "text": [
            "<class 'pandas.core.frame.DataFrame'>\n",
            "Int64Index: 25909 entries, 12827 to 38735\n",
            "Data columns (total 85 columns):\n",
            " #   Column                                     Non-Null Count  Dtype  \n",
            "---  ------                                     --------------  -----  \n",
            " 0   YEAR                                       25909 non-null  int64  \n",
            " 1   MES                                        25909 non-null  object \n",
            " 2   Fecha diligenciamiento                     25909 non-null  object \n",
            " 3   Hora                                       25909 non-null  object \n",
            " 4   Atención                                   25909 non-null  int64  \n",
            " 5   Ingreso                                    25909 non-null  int64  \n",
            " 6   Tipo                                       25909 non-null  object \n",
            " 7   NRODOC                                     25909 non-null  int64  \n",
            " 8   Peso                                       25909 non-null  float64\n",
            " 9   Talla                                      25909 non-null  float64\n",
            " 10  IMC                                        25909 non-null  float64\n",
            " 11  Clasificación IMC                          25909 non-null  object \n",
            " 12  Saturación de Oxígeno (%)                  25792 non-null  float64\n",
            " 13  Perímetro Muslo                            25909 non-null  float64\n",
            " 14  Perímetro Cintura                          25909 non-null  float64\n",
            " 15  Pliegue Triceps                            25909 non-null  float64\n",
            " 16  Pliegue Abdomen                            25909 non-null  float64\n",
            " 17  Pliegue Muslo                              25909 non-null  float64\n",
            " 18  Sumatoria Pliegues                         25909 non-null  float64\n",
            " 19  Presión Arterial Sistólica                 25909 non-null  int64  \n",
            " 20  Presión Arterial Diastólica                25909 non-null  int64  \n",
            " 21  Frecuencia Cardíaca en reposo              25909 non-null  int64  \n",
            " 22  Auto-calificacion Nivel de Ejercicio       25909 non-null  int64  \n",
            " 23  Constantes                                 25909 non-null  float64\n",
            " 24  METS -Índice Metabólico                    25909 non-null  float64\n",
            " 25  VO2 - Máxima Cantidad de Oxígeno           25909 non-null  float64\n",
            " 26  Índice de Fragilidad Groningen             25907 non-null  float64\n",
            " 27  Calificación (Índice de Fragilidad)        25909 non-null  object \n",
            " 28  Tiempo en Segundos (Apoyo Monopodal)       25909 non-null  int64  \n",
            " 29  Calificación (Apoyo Monopodal)             25909 non-null  object \n",
            " 30  Tiempo en Segundos (Recorrer 5 metros)     25909 non-null  int64  \n",
            " 31  Velocidad (m/s)                            25909 non-null  float64\n",
            " 32  Calificación Velocidad                     25909 non-null  object \n",
            " 33  Índice Tobillo/Brazo                       19593 non-null  object \n",
            " 34  Diabetes Mellitus                          25405 non-null  object \n",
            " 35  Glicemia                                   25405 non-null  float64\n",
            " 36  Fecha glicemia                             23537 non-null  object \n",
            " 37  Hemoglobina Glicada                        25405 non-null  float64\n",
            " 38  Fecha hemoglobina glicosilada              22373 non-null  object \n",
            " 39  Control Diabetes                           25405 non-null  object \n",
            " 40  Tiene HTA                                  25405 non-null  object \n",
            " 41  Control HTA                                25405 non-null  object \n",
            " 42  Tiene riesgo de tener HTA                  25405 non-null  object \n",
            " 43  Tiempo con el diagnóstico1                 18981 non-null  object \n",
            " 44  Tiene EPOC                                 25405 non-null  object \n",
            " 45  Enfermedad Coronaria (En el último año)    25405 non-null  object \n",
            " 46  Insuficiencia Cardíaca                     25405 non-null  object \n",
            " 47  Valvulopatía                               25405 non-null  object \n",
            " 48  Arritmia o paciente con dispositivo        25405 non-null  object \n",
            " 49  Sufre de alguna enfermedad cardiovascular  25405 non-null  object \n",
            " 50  Tabaquismo                                 25405 non-null  object \n",
            " 51  Cuantos cigarrillos día                    25405 non-null  object \n",
            " 52  Años de Consumo                            25852 non-null  float64\n",
            " 53  Lipoproteina                               25405 non-null  float64\n",
            " 54  HDL                                        25405 non-null  float64\n",
            " 55  Fecha HDL                                  23929 non-null  object \n",
            " 56  Colesterol total                           25405 non-null  float64\n",
            " 57  Fecha colesterol total                     23904 non-null  object \n",
            " 58  Trigliceridos                              25405 non-null  float64\n",
            " 59  Fecha trigliceridos                        23855 non-null  object \n",
            " 60  Clasificación de Framinghan                25405 non-null  object \n",
            " 61  Creatinina 1 consulta                      25405 non-null  float64\n",
            " 62  Fecha creatinina1                          24388 non-null  object \n",
            " 63  Tasa de Filtración Glomerular TFG          25405 non-null  float64\n",
            " 64  Estadio de la Enfermedad Renal             24388 non-null  object \n",
            " 65  Microalbuminuria                           25405 non-null  float64\n",
            " 66  Fecha microalbuminuria                     21337 non-null  object \n",
            " 67  Hormona Estimulante de la Tiroides (TSH)   25405 non-null  float64\n",
            " 68  Clase Funcional                            25405 non-null  object \n",
            " 69  Creatinina 2 consulta                      25405 non-null  float64\n",
            " 70  Tasa de Filtración Glomerular TFG2         25405 non-null  float64\n",
            " 71  Meses de diferencia entre TFG              25405 non-null  float64\n",
            " 72  Cambio de TFG                              25405 non-null  float64\n",
            " 73  Basciloscopia                              18588 non-null  object \n",
            " 74  Úlcera de pie diabético                    22943 non-null  object \n",
            " 75  Remisión                                   25405 non-null  object \n",
            " 76  Diagnóstico Principal                      25404 non-null  object \n",
            " 77  Análisis y conducta a seguir               25404 non-null  object \n",
            " 78  Tiene próximo control                      25404 non-null  object \n",
            " 79  Fecha Próximo Control                      24587 non-null  object \n",
            " 80  Tipo control                               24587 non-null  object \n",
            " 81  Requiere cita de morbilidad                25404 non-null  object \n",
            " 82  Ambito según el médico                     25909 non-null  object \n",
            " 83  Diagnostico1                               18524 non-null  object \n",
            " 84  NombreDiagnostico1                         18524 non-null  object \n",
            "dtypes: float64(30), int64(10), object(45)\n",
            "memory usage: 17.0+ MB\n"
          ]
        }
      ]
    },
    {
      "cell_type": "code",
      "source": [
        "cronicos_pos = cronicos_pos.drop(['Diagnostico1', 'NombreDiagnostico1', 'Tipo control', 'Análisis y conducta a seguir', 'Constantes', 'Tiempo con el diagnóstico1', 'Fecha glicemia', 'Fecha hemoglobina glicosilada', 'Fecha HDL', 'Fecha colesterol total', 'Fecha trigliceridos', 'Fecha creatinina1', 'Fecha microalbuminuria', 'Creatinina 1 consulta', 'Tasa de Filtración Glomerular TFG', 'Cambio de TFG', 'Meses de diferencia entre TFG','Remisión', 'Basciloscopia'], axis = 1) "
      ],
      "metadata": {
        "id": "-1QwaRa2vT6u"
      },
      "execution_count": 430,
      "outputs": []
    },
    {
      "cell_type": "code",
      "source": [
        "cronicos_pos = cronicos_pos.dropna()"
      ],
      "metadata": {
        "id": "KAh_BcO1wyfd"
      },
      "execution_count": 431,
      "outputs": []
    },
    {
      "cell_type": "code",
      "source": [
        "#Variables que están en pos pandemia y no en pre pandemia\n",
        "lista = cronicos_pre.columns\n",
        "lista2 = cronicos_pos.columns\n",
        "lista3 = []\n",
        "for i in lista2:\n",
        "    if i not in lista:\n",
        "        lista3.append(i)\n",
        "lista3\n",
        "\n",
        "\n",
        "#Todo pospandemia aumentó, existe la necesidad de hacer más controles y pruebas médicas. También es posible que muchas personas sintieron la necesidad de ir al médico a raíz de la pandemia"
      ],
      "metadata": {
        "colab": {
          "base_uri": "https://localhost:8080/"
        },
        "id": "JdMWdwV2xoie",
        "outputId": "fd435d22-943b-4c5f-aa50-7d752e5d6c6f"
      },
      "execution_count": 432,
      "outputs": [
        {
          "output_type": "execute_result",
          "data": {
            "text/plain": [
              "['Índice Tobillo/Brazo',\n",
              " 'Control HTA',\n",
              " 'Tiene riesgo de tener HTA',\n",
              " 'Cuantos cigarrillos día',\n",
              " 'Años de Consumo',\n",
              " 'Clasificación de Framinghan',\n",
              " 'Tiene próximo control',\n",
              " 'Requiere cita de morbilidad']"
            ]
          },
          "metadata": {},
          "execution_count": 432
        }
      ]
    },
    {
      "cell_type": "code",
      "source": [
        "cronicos_pos.shape"
      ],
      "metadata": {
        "colab": {
          "base_uri": "https://localhost:8080/"
        },
        "id": "CfwER1QCxCRg",
        "outputId": "57a6262d-7e62-4f45-8acb-6ed7e319fe8b"
      },
      "execution_count": 433,
      "outputs": [
        {
          "output_type": "execute_result",
          "data": {
            "text/plain": [
              "(16373, 66)"
            ]
          },
          "metadata": {},
          "execution_count": 433
        }
      ]
    },
    {
      "cell_type": "code",
      "source": [
        "#Homologar variable tipo\n",
        "cronicos_pre['Tipo'] = cronicos_pre['Tipo'].replace(['CC',' CC','CC ' ], 'CC')\n",
        "cronicos_pre['Tipo'].value_counts()"
      ],
      "metadata": {
        "id": "HLA09r2HTFvu",
        "colab": {
          "base_uri": "https://localhost:8080/"
        },
        "outputId": "3a9da40a-222d-4245-bd3d-d86a10f151df"
      },
      "execution_count": 434,
      "outputs": [
        {
          "output_type": "execute_result",
          "data": {
            "text/plain": [
              "CC    10357\n",
              "CE        8\n",
              "Name: Tipo, dtype: int64"
            ]
          },
          "metadata": {},
          "execution_count": 434
        }
      ]
    },
    {
      "cell_type": "markdown",
      "source": [
        "##Base de datos usuarios "
      ],
      "metadata": {
        "id": "yImZZrUZRSZ4"
      }
    },
    {
      "cell_type": "code",
      "source": [
        "usuarios = usuarios.drop('DEPARTAMENTO', axis = 1)\n",
        "#Se elimina la variable departamento porque en pre pandemia todos los datos son nulos y pos pandemia todos son de Antioquia"
      ],
      "metadata": {
        "id": "xbYGGDltDBHp"
      },
      "execution_count": 435,
      "outputs": []
    },
    {
      "cell_type": "code",
      "source": [
        "usuarios['FECHA NACIMIENTO'] = pd.to_datetime(usuarios['FECHA NACIMIENTO'], errors = 'coerce', format = '%Y-%m-%d')"
      ],
      "metadata": {
        "id": "SDjqX8GPJB_8"
      },
      "execution_count": 436,
      "outputs": []
    },
    {
      "cell_type": "code",
      "source": [
        "usuarios.dtypes"
      ],
      "metadata": {
        "colab": {
          "base_uri": "https://localhost:8080/"
        },
        "id": "0lQhifYmJhfM",
        "outputId": "4a76908f-7d6d-46ea-ef55-19af383fff34"
      },
      "execution_count": 437,
      "outputs": [
        {
          "output_type": "execute_result",
          "data": {
            "text/plain": [
              "MES                                      object\n",
              "YEAR                                      int64\n",
              "NRODOC                                    int64\n",
              "SEXO                                     object\n",
              "FECHA NACIMIENTO                 datetime64[ns]\n",
              "EDAD                                    float64\n",
              "MUNICIPIO                                object\n",
              "BARRIO                                   object\n",
              "FECHA INICIO AL PGP                      object\n",
              "FECHA PRIMERA CLASE FUNCIONAL            object\n",
              "PRIMERA CLASE FUNCIONAL                  object\n",
              "FECHA ÚLTIMA CLASE FUNCIONAL             object\n",
              "ÚLTIMA CLASE FUNCIONAL                   object\n",
              "CICLO_VITAL                              object\n",
              "QUINQUENIO                               object\n",
              "dtype: object"
            ]
          },
          "metadata": {},
          "execution_count": 437
        }
      ]
    },
    {
      "cell_type": "code",
      "source": [
        "usuarios_pre = usuarios[(usuarios['YEAR'] == 2017) | (usuarios['YEAR'] == 2018)]\n",
        "usuarios_pos = usuarios[(usuarios['YEAR'] == 2021) | (usuarios['YEAR'] == 2022)]"
      ],
      "metadata": {
        "id": "jfCVfAfwDLUl"
      },
      "execution_count": 438,
      "outputs": []
    },
    {
      "cell_type": "markdown",
      "source": [
        "###Usuarios pre pandemia"
      ],
      "metadata": {
        "id": "s9tEW6orC1qe"
      }
    },
    {
      "cell_type": "code",
      "source": [
        "percent_null(usuarios_pre)"
      ],
      "metadata": {
        "colab": {
          "base_uri": "https://localhost:8080/"
        },
        "id": "JMWjz2KH1r1P",
        "outputId": "b315457c-bcba-438a-a3ca-a48818df351c"
      },
      "execution_count": 439,
      "outputs": [
        {
          "output_type": "stream",
          "name": "stdout",
          "text": [
            "MES -> 0  |  0.0 %\n",
            "YEAR -> 0  |  0.0 %\n",
            "NRODOC -> 0  |  0.0 %\n",
            "SEXO -> 10  |  0.01 %\n",
            "FECHA NACIMIENTO -> 72080  |  71.02 %\n",
            "EDAD -> 34156  |  33.65 %\n",
            "MUNICIPIO -> 101490  |  100.0 %\n",
            "BARRIO -> 37052  |  36.51 %\n",
            "FECHA INICIO AL PGP -> 58253  |  57.4 %\n",
            "FECHA PRIMERA CLASE FUNCIONAL -> 94832  |  93.44 %\n",
            "PRIMERA CLASE FUNCIONAL -> 93439  |  92.07 %\n",
            "FECHA ÚLTIMA CLASE FUNCIONAL -> 94832  |  93.44 %\n",
            "ÚLTIMA CLASE FUNCIONAL -> 54992  |  54.18 %\n",
            "CICLO_VITAL -> 34156  |  33.65 %\n",
            "QUINQUENIO -> 34156  |  33.65 %\n"
          ]
        }
      ]
    },
    {
      "cell_type": "code",
      "source": [
        "def meses(nombre_mes):\n",
        "    nombre_mes = nombre_mes.upper()\n",
        "    if nombre_mes == \"ENERO\":\n",
        "        mes = 1\n",
        "    elif nombre_mes == \"FEBRERO\":\n",
        "        mes = 2\n",
        "    elif nombre_mes == \"MARZO\":\n",
        "        mes = 3\n",
        "    elif nombre_mes == \"ABRIL\":\n",
        "        mes = 4\n",
        "    elif nombre_mes == \"MAYO\":\n",
        "        mes = 5\n",
        "    elif nombre_mes == \"JUNIO\":\n",
        "        mes = 6\n",
        "    elif nombre_mes == \"JULIO\":\n",
        "        mes = 7\n",
        "    elif nombre_mes == \"AGOSTO\":\n",
        "        mes = 8\n",
        "    elif nombre_mes == \"SEPTIEMBRE\":\n",
        "        mes = 9\n",
        "    elif nombre_mes == \"OCTUBRE\":\n",
        "        mes = 10\n",
        "    elif nombre_mes == \"NOVIEMBRE\":\n",
        "        mes = 11\n",
        "    elif nombre_mes == \"DICIEMBRE\":\n",
        "        mes = 12\n",
        "    return mes\n"
      ],
      "metadata": {
        "id": "OxP-wmjUFkvY"
      },
      "execution_count": 440,
      "outputs": []
    },
    {
      "cell_type": "code",
      "source": [
        "#Poner los meses en número \n",
        "lista_meses = list(usuarios_pre['MES'])\n",
        "for i in range(len(lista_meses)):\n",
        "    lista_meses[i]= meses(lista_meses[i])\n",
        "\n",
        "usuarios_pre['MES_NUM'] = pd.DataFrame(lista_meses)"
      ],
      "metadata": {
        "colab": {
          "base_uri": "https://localhost:8080/"
        },
        "id": "-bDdpe6LD10m",
        "outputId": "dd9fb39d-b5c8-4104-cfc3-2f84b277aefd"
      },
      "execution_count": 441,
      "outputs": [
        {
          "output_type": "stream",
          "name": "stderr",
          "text": [
            "/usr/local/lib/python3.7/dist-packages/ipykernel_launcher.py:6: SettingWithCopyWarning: \n",
            "A value is trying to be set on a copy of a slice from a DataFrame.\n",
            "Try using .loc[row_indexer,col_indexer] = value instead\n",
            "\n",
            "See the caveats in the documentation: https://pandas.pydata.org/pandas-docs/stable/user_guide/indexing.html#returning-a-view-versus-a-copy\n",
            "  \n"
          ]
        }
      ]
    },
    {
      "cell_type": "code",
      "source": [
        "#Extraer mes y año de la fecha de nacimiento\n",
        "usuarios_pre['MES NACIMIENTO'] = usuarios_pre['FECHA NACIMIENTO'].dt.month\n",
        "usuarios_pre['AÑO NACIMIENTO'] = usuarios_pre['FECHA NACIMIENTO'].dt.year"
      ],
      "metadata": {
        "colab": {
          "base_uri": "https://localhost:8080/"
        },
        "id": "3spAsCzFIomh",
        "outputId": "5cfdb9cb-ee4d-4678-8972-136990717b74"
      },
      "execution_count": 442,
      "outputs": [
        {
          "output_type": "stream",
          "name": "stderr",
          "text": [
            "/usr/local/lib/python3.7/dist-packages/ipykernel_launcher.py:2: SettingWithCopyWarning: \n",
            "A value is trying to be set on a copy of a slice from a DataFrame.\n",
            "Try using .loc[row_indexer,col_indexer] = value instead\n",
            "\n",
            "See the caveats in the documentation: https://pandas.pydata.org/pandas-docs/stable/user_guide/indexing.html#returning-a-view-versus-a-copy\n",
            "  \n",
            "/usr/local/lib/python3.7/dist-packages/ipykernel_launcher.py:3: SettingWithCopyWarning: \n",
            "A value is trying to be set on a copy of a slice from a DataFrame.\n",
            "Try using .loc[row_indexer,col_indexer] = value instead\n",
            "\n",
            "See the caveats in the documentation: https://pandas.pydata.org/pandas-docs/stable/user_guide/indexing.html#returning-a-view-versus-a-copy\n",
            "  This is separate from the ipykernel package so we can avoid doing imports until\n"
          ]
        }
      ]
    },
    {
      "cell_type": "code",
      "source": [
        "usuarios_pre['MES NACIMIENTO'] = usuarios_pre['MES NACIMIENTO'].fillna(0)\n",
        "usuarios_pre['AÑO NACIMIENTO'] = usuarios_pre['AÑO NACIMIENTO'].fillna(0)"
      ],
      "metadata": {
        "colab": {
          "base_uri": "https://localhost:8080/"
        },
        "id": "fW2k0lZINKV-",
        "outputId": "67e22b97-bf3d-461e-c621-d24b90e95771"
      },
      "execution_count": 443,
      "outputs": [
        {
          "output_type": "stream",
          "name": "stderr",
          "text": [
            "/usr/local/lib/python3.7/dist-packages/ipykernel_launcher.py:1: SettingWithCopyWarning: \n",
            "A value is trying to be set on a copy of a slice from a DataFrame.\n",
            "Try using .loc[row_indexer,col_indexer] = value instead\n",
            "\n",
            "See the caveats in the documentation: https://pandas.pydata.org/pandas-docs/stable/user_guide/indexing.html#returning-a-view-versus-a-copy\n",
            "  \"\"\"Entry point for launching an IPython kernel.\n",
            "/usr/local/lib/python3.7/dist-packages/ipykernel_launcher.py:2: SettingWithCopyWarning: \n",
            "A value is trying to be set on a copy of a slice from a DataFrame.\n",
            "Try using .loc[row_indexer,col_indexer] = value instead\n",
            "\n",
            "See the caveats in the documentation: https://pandas.pydata.org/pandas-docs/stable/user_guide/indexing.html#returning-a-view-versus-a-copy\n",
            "  \n"
          ]
        }
      ]
    },
    {
      "cell_type": "code",
      "source": [
        "#Convertir tipo de datos\n",
        "usuarios_pre['MES NACIMIENTO'] = usuarios_pre['MES NACIMIENTO'].astype('int')\n",
        "usuarios_pre['AÑO NACIMIENTO'] = usuarios_pre['AÑO NACIMIENTO'].astype('int')"
      ],
      "metadata": {
        "colab": {
          "base_uri": "https://localhost:8080/"
        },
        "id": "-mt1WhsTLDx8",
        "outputId": "e431e1bd-5ed8-472c-a36f-f1b2b300ae82"
      },
      "execution_count": 444,
      "outputs": [
        {
          "output_type": "stream",
          "name": "stderr",
          "text": [
            "/usr/local/lib/python3.7/dist-packages/ipykernel_launcher.py:2: SettingWithCopyWarning: \n",
            "A value is trying to be set on a copy of a slice from a DataFrame.\n",
            "Try using .loc[row_indexer,col_indexer] = value instead\n",
            "\n",
            "See the caveats in the documentation: https://pandas.pydata.org/pandas-docs/stable/user_guide/indexing.html#returning-a-view-versus-a-copy\n",
            "  \n",
            "/usr/local/lib/python3.7/dist-packages/ipykernel_launcher.py:3: SettingWithCopyWarning: \n",
            "A value is trying to be set on a copy of a slice from a DataFrame.\n",
            "Try using .loc[row_indexer,col_indexer] = value instead\n",
            "\n",
            "See the caveats in the documentation: https://pandas.pydata.org/pandas-docs/stable/user_guide/indexing.html#returning-a-view-versus-a-copy\n",
            "  This is separate from the ipykernel package so we can avoid doing imports until\n"
          ]
        }
      ]
    },
    {
      "cell_type": "code",
      "source": [
        "usuarios_pre['EDAD'] = usuarios_pre['EDAD'].fillna(0)\n",
        "usuarios_pre['EDAD'] = usuarios_pre['EDAD'].astype('int')"
      ],
      "metadata": {
        "colab": {
          "base_uri": "https://localhost:8080/"
        },
        "id": "k0yqO98SgHa8",
        "outputId": "5ab6dbae-fea8-4420-9b0d-8b941343eb32"
      },
      "execution_count": 445,
      "outputs": [
        {
          "output_type": "stream",
          "name": "stderr",
          "text": [
            "/usr/local/lib/python3.7/dist-packages/ipykernel_launcher.py:1: SettingWithCopyWarning: \n",
            "A value is trying to be set on a copy of a slice from a DataFrame.\n",
            "Try using .loc[row_indexer,col_indexer] = value instead\n",
            "\n",
            "See the caveats in the documentation: https://pandas.pydata.org/pandas-docs/stable/user_guide/indexing.html#returning-a-view-versus-a-copy\n",
            "  \"\"\"Entry point for launching an IPython kernel.\n",
            "/usr/local/lib/python3.7/dist-packages/ipykernel_launcher.py:2: SettingWithCopyWarning: \n",
            "A value is trying to be set on a copy of a slice from a DataFrame.\n",
            "Try using .loc[row_indexer,col_indexer] = value instead\n",
            "\n",
            "See the caveats in the documentation: https://pandas.pydata.org/pandas-docs/stable/user_guide/indexing.html#returning-a-view-versus-a-copy\n",
            "  \n"
          ]
        }
      ]
    },
    {
      "cell_type": "code",
      "source": [
        "#Calcular la edad según la fecha de nacimiento\n",
        "lista_mes_nac = list(usuarios_pre['MES NACIMIENTO'])\n",
        "lista_mes = list(usuarios_pre['MES_NUM'])\n",
        "lista_año_nac = list(usuarios_pre['AÑO NACIMIENTO'])\n",
        "lista_año = list(usuarios_pre['YEAR'])\n",
        "lista_edad = list(usuarios_pre['EDAD'])\n",
        "edad = []\n",
        "for i in range(len(lista_mes_nac)):\n",
        "    if lista_año_nac[i] != 0:\n",
        "        if lista_mes_nac[i] > lista_mes[i]:\n",
        "            edad.append(lista_año[i]-lista_año_nac[i]-1)\n",
        "        else:\n",
        "            edad.append(lista_año[i]-lista_año_nac[i])\n",
        "    else:\n",
        "        edad.append(0)"
      ],
      "metadata": {
        "id": "wVvXqDqrOk2W"
      },
      "execution_count": 446,
      "outputs": []
    },
    {
      "cell_type": "code",
      "source": [
        "#Llenar nulos de la edad \n",
        "usuarios_pre['EDAD'] = usuarios_pre['EDAD'].fillna(0)\n",
        "\n",
        "lista_edad = list(usuarios_pre['EDAD'])\n",
        "for i in range(len(lista_edad)):\n",
        "    if lista_edad[i] == 0 and lista_año_nac[i] != 0:\n",
        "        lista_edad[i] = edad[i]\n",
        "\n",
        "usuarios_pre['EDAD'] = pd.DataFrame(lista_edad)"
      ],
      "metadata": {
        "colab": {
          "base_uri": "https://localhost:8080/"
        },
        "id": "-otXxvEIRAgZ",
        "outputId": "3fa8875d-cc19-4f55-f2d9-19b9dbc07a99"
      },
      "execution_count": 447,
      "outputs": [
        {
          "output_type": "stream",
          "name": "stderr",
          "text": [
            "/usr/local/lib/python3.7/dist-packages/ipykernel_launcher.py:2: SettingWithCopyWarning: \n",
            "A value is trying to be set on a copy of a slice from a DataFrame.\n",
            "Try using .loc[row_indexer,col_indexer] = value instead\n",
            "\n",
            "See the caveats in the documentation: https://pandas.pydata.org/pandas-docs/stable/user_guide/indexing.html#returning-a-view-versus-a-copy\n",
            "  \n",
            "/usr/local/lib/python3.7/dist-packages/ipykernel_launcher.py:9: SettingWithCopyWarning: \n",
            "A value is trying to be set on a copy of a slice from a DataFrame.\n",
            "Try using .loc[row_indexer,col_indexer] = value instead\n",
            "\n",
            "See the caveats in the documentation: https://pandas.pydata.org/pandas-docs/stable/user_guide/indexing.html#returning-a-view-versus-a-copy\n",
            "  if __name__ == '__main__':\n"
          ]
        }
      ]
    },
    {
      "cell_type": "code",
      "source": [
        "indexNames = usuarios_pre[(usuarios_pre['EDAD']== 0) & (usuarios_pre['AÑO NACIMIENTO']== 0)].index\n",
        "usuarios_pre.drop(indexNames , inplace=True)"
      ],
      "metadata": {
        "colab": {
          "base_uri": "https://localhost:8080/"
        },
        "id": "Aj3VaOBxgLtq",
        "outputId": "11297369-61f7-41c4-fcdb-bfdc2812f822"
      },
      "execution_count": 448,
      "outputs": [
        {
          "output_type": "stream",
          "name": "stderr",
          "text": [
            "/usr/local/lib/python3.7/dist-packages/pandas/core/frame.py:4913: SettingWithCopyWarning: \n",
            "A value is trying to be set on a copy of a slice from a DataFrame\n",
            "\n",
            "See the caveats in the documentation: https://pandas.pydata.org/pandas-docs/stable/user_guide/indexing.html#returning-a-view-versus-a-copy\n",
            "  errors=errors,\n"
          ]
        }
      ]
    },
    {
      "cell_type": "code",
      "source": [
        "usuarios_pre = usuarios_pre.drop(['FECHA NACIMIENTO', 'MES_NUM', 'MES NACIMIENTO', 'AÑO NACIMIENTO', 'FECHA PRIMERA CLASE FUNCIONAL', 'PRIMERA CLASE FUNCIONAL','FECHA INICIO AL PGP','FECHA ÚLTIMA CLASE FUNCIONAL', 'MUNICIPIO', 'ÚLTIMA CLASE FUNCIONAL', 'QUINQUENIO'], axis = 1)"
      ],
      "metadata": {
        "id": "caAI_xAtTrcV"
      },
      "execution_count": 449,
      "outputs": []
    },
    {
      "cell_type": "code",
      "source": [
        "#Llenar nulos de variable CICLO VITAL \n",
        "#Rangos teniendo en cuenta los datos que ya están en la base y la clasificación de Min Salud -> https://www.minsalud.gov.co/proteccionsocial/Paginas/cicloVida.aspx#:~:text=La%20siguiente%20clasificaci%C3%B3n%20es%20un,(60%20a%C3%B1os%20y%20m%C3%A1s).:\n",
        "#Primera infancia 0 - 5\n",
        "#Infancia 6 - 13\n",
        "#Juventud 14 - 28\n",
        "#Adultez 29 - 59\n",
        "#Vejez >= 60\n",
        "\n",
        "usuarios_pre['CICLO_VITAL'] = usuarios_pre['EDAD'].apply(lambda x: \"Primera infancia\" if x <=5 else \"Infancia\" if x >= 6 and x <=13 else \"Juventud\" if x >= 14 and x <=28 else \"Adultez\" if x >= 29 and x <=59 else \"Vejez\")"
      ],
      "metadata": {
        "id": "oO9HVuwBWQ4m"
      },
      "execution_count": 450,
      "outputs": []
    },
    {
      "cell_type": "code",
      "source": [
        "usuarios_pre = usuarios_pre.drop('BARRIO', axis = 1)"
      ],
      "metadata": {
        "id": "fBW1g-Vv9ptb"
      },
      "execution_count": 451,
      "outputs": []
    },
    {
      "cell_type": "code",
      "source": [
        "percent_null(usuarios_pre)"
      ],
      "metadata": {
        "colab": {
          "base_uri": "https://localhost:8080/"
        },
        "id": "mjOaHGbxZ64-",
        "outputId": "1913d179-3868-41e4-a1d0-eb1cd8ae1601"
      },
      "execution_count": 452,
      "outputs": [
        {
          "output_type": "stream",
          "name": "stdout",
          "text": [
            "MES -> 0  |  0.0 %\n",
            "YEAR -> 0  |  0.0 %\n",
            "NRODOC -> 0  |  0.0 %\n",
            "SEXO -> 0  |  0.0 %\n",
            "EDAD -> 0  |  0.0 %\n",
            "CICLO_VITAL -> 0  |  0.0 %\n"
          ]
        }
      ]
    },
    {
      "cell_type": "code",
      "source": [
        "usuarios_pre['SEXO'] = usuarios_pre['SEXO'].apply(lambda x: \"F\" if x == \"F\" else \"M\" if x == \"M\" else \"Sin información\")"
      ],
      "metadata": {
        "id": "sLgAsq3jRWyR"
      },
      "execution_count": 453,
      "outputs": []
    },
    {
      "cell_type": "code",
      "source": [
        "lista = usuarios_pre.columns\n",
        "for i in lista:\n",
        "    print(i)\n",
        "    print(usuarios_pre[i].unique())\n",
        "    print(\"__________________\")"
      ],
      "metadata": {
        "id": "xMVJxDsqWDY3",
        "colab": {
          "base_uri": "https://localhost:8080/"
        },
        "outputId": "6008b8db-ceb9-4127-bb99-e92786667767"
      },
      "execution_count": 454,
      "outputs": [
        {
          "output_type": "stream",
          "name": "stdout",
          "text": [
            "MES\n",
            "['ABRIL' 'MAYO' 'JUNIO' 'JULIO' 'AGOSTO' 'SEPTIEMBRE' 'OCTUBRE'\n",
            " 'DICIEMBRE' 'ENERO' 'FEBRERO' 'MARZO' 'NOVIEMBRE']\n",
            "__________________\n",
            "YEAR\n",
            "[2017 2018]\n",
            "__________________\n",
            "NRODOC\n",
            "[306221 306222 306223 ... 312450 312451 312452]\n",
            "__________________\n",
            "SEXO\n",
            "['F' 'M' 'Sin información']\n",
            "__________________\n",
            "EDAD\n",
            "[ 78  42  86  37  73  90  91  50  56  77  70  74  83  29  87  85  79  81\n",
            "  80  88  24  98  76  84  51  67  57  41  68  72  59  38  62  53  65  25\n",
            "  66  82  93  48  64  69  34  94  89  55  54  71  97  92  75  61  95  11\n",
            "  58  52  63 101  43  44  45  46  36  31  96  60  35  27  33  23  22  21\n",
            "  47  49 100 103  99  39  40   9  26  30  15 104  28 102  32  20   4 105\n",
            "  19  18]\n",
            "__________________\n",
            "CICLO_VITAL\n",
            "['Vejez' 'Adultez' 'Juventud' 'Infancia' 'Primera infancia']\n",
            "__________________\n"
          ]
        }
      ]
    },
    {
      "cell_type": "markdown",
      "source": [
        "###Usuarios pos pandemia"
      ],
      "metadata": {
        "id": "OuRuj5ZIIVTd"
      }
    },
    {
      "cell_type": "code",
      "source": [
        "percent_null(usuarios_pos)"
      ],
      "metadata": {
        "colab": {
          "base_uri": "https://localhost:8080/"
        },
        "id": "qtrnDD6lsz6e",
        "outputId": "fd8a9dee-b20e-4c6d-eb99-6e368d8ff29e"
      },
      "execution_count": 455,
      "outputs": [
        {
          "output_type": "stream",
          "name": "stdout",
          "text": [
            "MES -> 0  |  0.0 %\n",
            "YEAR -> 0  |  0.0 %\n",
            "NRODOC -> 0  |  0.0 %\n",
            "SEXO -> 0  |  0.0 %\n",
            "FECHA NACIMIENTO -> 0  |  0.0 %\n",
            "EDAD -> 0  |  0.0 %\n",
            "MUNICIPIO -> 1024  |  1.24 %\n",
            "BARRIO -> 31515  |  38.24 %\n",
            "FECHA INICIO AL PGP -> 0  |  0.0 %\n",
            "FECHA PRIMERA CLASE FUNCIONAL -> 1118  |  1.36 %\n",
            "PRIMERA CLASE FUNCIONAL -> 831  |  1.01 %\n",
            "FECHA ÚLTIMA CLASE FUNCIONAL -> 1094  |  1.33 %\n",
            "ÚLTIMA CLASE FUNCIONAL -> 810  |  0.98 %\n",
            "CICLO_VITAL -> 0  |  0.0 %\n",
            "QUINQUENIO -> 0  |  0.0 %\n"
          ]
        }
      ]
    },
    {
      "cell_type": "code",
      "source": [
        "usuarios_pos = usuarios_pos.drop(['BARRIO', 'FECHA INICIO AL PGP', 'FECHA PRIMERA CLASE FUNCIONAL', 'PRIMERA CLASE FUNCIONAL', 'FECHA ÚLTIMA CLASE FUNCIONAL', 'ÚLTIMA CLASE FUNCIONAL' ], axis = 1)"
      ],
      "metadata": {
        "id": "2L750AjzG17m"
      },
      "execution_count": 456,
      "outputs": []
    },
    {
      "cell_type": "code",
      "source": [
        "percent_null(usuarios_pos)"
      ],
      "metadata": {
        "colab": {
          "base_uri": "https://localhost:8080/"
        },
        "id": "gA9PshnfIZO7",
        "outputId": "1acc05cd-36b6-4095-807c-557035b1b0b3"
      },
      "execution_count": 457,
      "outputs": [
        {
          "output_type": "stream",
          "name": "stdout",
          "text": [
            "MES -> 0  |  0.0 %\n",
            "YEAR -> 0  |  0.0 %\n",
            "NRODOC -> 0  |  0.0 %\n",
            "SEXO -> 0  |  0.0 %\n",
            "FECHA NACIMIENTO -> 0  |  0.0 %\n",
            "EDAD -> 0  |  0.0 %\n",
            "MUNICIPIO -> 1024  |  1.24 %\n",
            "CICLO_VITAL -> 0  |  0.0 %\n",
            "QUINQUENIO -> 0  |  0.0 %\n"
          ]
        }
      ]
    },
    {
      "cell_type": "code",
      "source": [
        "#Homologar categorías de la varible municipio\n",
        "usuarios_pos['MUNICIPIO'] = usuarios_pos['MUNICIPIO'].replace(['SAN ANTONIO DE PRADO', 'SAN CRISTOBAL', 'SANTA ELENA', 'VEREDA YARUMALITO', 'VEREDA BOQUERON', 'EL PORVENIR'], 'MEDELLIN')\n",
        "usuarios_pos['MUNICIPIO'] = usuarios_pos['MUNICIPIO'].replace(['SAN FELIX', 'VEREDA EL TAMBO', 'VEREDA SINDELATO', 'VEREDA EL POTRERITO'], 'BELLO')\n",
        "usuarios_pos['MUNICIPIO'] = usuarios_pos['MUNICIPIO'].replace(['VEREDA LA MARIA', 'VEREDA EL TAMBO', 'VEREDA SINDELATO'], 'BELLO') \n",
        "usuarios_pos['MUNICIPIO'] = usuarios_pos['MUNICIPIO'].replace('VEREDA EL LLANO', 'COPACABANA')"
      ],
      "metadata": {
        "id": "3qivTuZ4IjGj"
      },
      "execution_count": 458,
      "outputs": []
    },
    {
      "cell_type": "code",
      "source": [
        "usuarios_pos['MUNICIPIO'].value_counts()"
      ],
      "metadata": {
        "colab": {
          "base_uri": "https://localhost:8080/"
        },
        "id": "WTDi5OJI-fes",
        "outputId": "ece75049-a321-4df2-ce2f-1655a750ed85"
      },
      "execution_count": 459,
      "outputs": [
        {
          "output_type": "execute_result",
          "data": {
            "text/plain": [
              "MEDELLIN                 69751\n",
              "BELLO                     5780\n",
              "ITAGUI                    3051\n",
              "ENVIGADO                  1787\n",
              "SABANETA                   590\n",
              "LA ESTRELLA                279\n",
              "COPACABANA                 126\n",
              "SANTA FE DE ANTIOQUIA       18\n",
              "GIRARDOTA                   15\n",
              "Name: MUNICIPIO, dtype: int64"
            ]
          },
          "metadata": {},
          "execution_count": 459
        }
      ]
    },
    {
      "cell_type": "code",
      "source": [
        "#los datos nulos de la variable municipio se llenan con la moda\n",
        "usuarios_pos['MUNICIPIO'] = usuarios_pos['MUNICIPIO'].fillna('MEDELLIN')"
      ],
      "metadata": {
        "id": "KZkRSHHrKLWJ"
      },
      "execution_count": 460,
      "outputs": []
    },
    {
      "cell_type": "code",
      "source": [
        "percent_null(usuarios_pos)"
      ],
      "metadata": {
        "colab": {
          "base_uri": "https://localhost:8080/"
        },
        "id": "lViHSk1oLa6m",
        "outputId": "79538cf2-655a-4a4d-fa7c-cdac561847a1"
      },
      "execution_count": 461,
      "outputs": [
        {
          "output_type": "stream",
          "name": "stdout",
          "text": [
            "MES -> 0  |  0.0 %\n",
            "YEAR -> 0  |  0.0 %\n",
            "NRODOC -> 0  |  0.0 %\n",
            "SEXO -> 0  |  0.0 %\n",
            "FECHA NACIMIENTO -> 0  |  0.0 %\n",
            "EDAD -> 0  |  0.0 %\n",
            "MUNICIPIO -> 0  |  0.0 %\n",
            "CICLO_VITAL -> 0  |  0.0 %\n",
            "QUINQUENIO -> 0  |  0.0 %\n"
          ]
        }
      ]
    },
    {
      "cell_type": "markdown",
      "source": [
        "##Base de datos de egresos "
      ],
      "metadata": {
        "id": "guxt_UZIS1kB"
      }
    },
    {
      "cell_type": "code",
      "source": [
        "#Para la hospitalización no importa la eps a no ser de que sea para pagar, ni nada relacionado con la financiación\n",
        "\n",
        "#Eliminar tipo diagnostico principal\n",
        "#Eliminar los que describe\n",
        "\n",
        "#Solo dejar dxprincipal egreso, porque si dejamos categoría o capítulo está dando la misma información del diágnostico. El diagnostico de egreso es con el que atienden al paciente, por el que dan de alta, \n",
        "#los otros son una especie de seguimiento que no se consideran tan importantes para el estudio. \n",
        "\n",
        "#causa basica capitulo y categoría se eliminan, dicen lo mismo de la causa básica de muerte"
      ],
      "metadata": {
        "id": "9Nc6S4D2udOH"
      },
      "execution_count": 136,
      "outputs": []
    },
    {
      "cell_type": "code",
      "source": [
        "egresos= egresos.drop(['DEMORA SALIDA CLINICA (DIAS)','DEMORA ASIGNACION CAMA','DEMORA APLICACION MEDICAMENTO','SERVICIO EGRESO','PISO','NRO CAMA','SERVICIO HABILITADO COD','SERVICIO HABILITADO','UNIDAD ESTRATEGICA','BLOQUE','VIA INGRESO','SERVICIO ADMITE','SERVICIO ANTERIOR','NRO CAMA ANTERIOR','PISO ANTERIOR','BLOQUE ANTERIOR','FUENTE FINANCIACION2','FUENTE FINANCIACION1','MODALIDAD CONTRATO','REGIMEN AFILIACION','POSIBLE ALTA','TIPO DIAGNOSTICO PRINCIPAL','PERTINENCIA DIAGNOSTICA','CAUSA BASICA CATEGORIA COD','CAUSA BASICA CATEGORIA','CAUSA BASICA CAPITULO COD','CAUSA BASICA CAPITULO','DX PRINCIPAL EGRESO CATEGORIA COD','DX PRINCIPAL EGRESO CATEGORIA','DX PRINCIPAL EGRESO CAPITULO COD','DX PRINCIPAL EGRESO CAPITULO','DX RELACIONADO1 COD','DX RELACIONADO1','DX RELACIONADO2 COD','DX RELACIONADO2','DX RELACIONADO3 COD','DX RELACIONADO3','EPS VALIDADA', 'FECHA INGRESO CLINICA', 'FECHA INGRESO SERVICIO', 'FECHA POSIBLE ALTA', 'FECHA RECAUDO', 'FECHA CAMILLERO', 'FECHA ENFERMERIA', 'FECHA FACTURACION AUDIFARMA', 'FECHA FARMACIA', 'FECHA ASEO'], axis = 1)"
      ],
      "metadata": {
        "id": "a9vo9AtJMHjh"
      },
      "execution_count": 471,
      "outputs": []
    },
    {
      "cell_type": "code",
      "source": [
        "egresos['CAUSA BASICA MUERTE COD'] = egresos['CAUSA BASICA MUERTE COD'].fillna('No muere')"
      ],
      "metadata": {
        "id": "OoNhmVJqOItG"
      },
      "execution_count": 472,
      "outputs": []
    },
    {
      "cell_type": "code",
      "source": [
        "percent_null(egresos)"
      ],
      "metadata": {
        "colab": {
          "base_uri": "https://localhost:8080/"
        },
        "id": "FVV7LL7DLyXi",
        "outputId": "1d689308-9d01-4c7e-d1bc-0f07fe09f090"
      },
      "execution_count": 473,
      "outputs": [
        {
          "output_type": "stream",
          "name": "stdout",
          "text": [
            "YEAR -> 0  |  0.0 %\n",
            "MES -> 0  |  0.0 %\n",
            "NRO ATENCION -> 0  |  0.0 %\n",
            "NRO INGRESO -> 0  |  0.0 %\n",
            "TIPO IDENTIFICACION -> 0  |  0.0 %\n",
            "NRODOC -> 0  |  0.0 %\n",
            "FECHA NACIMIENTO -> 0  |  0.0 %\n",
            "TIPO EGRESO -> 0  |  0.0 %\n",
            "FECHA ALTA MEDICA -> 0  |  0.0 %\n",
            "FECHA SALIDA -> 0  |  0.0 %\n",
            "TRANSFUSION SANGRE -> 0  |  0.0 %\n",
            "ANTIBIOTICO -> 0  |  0.0 %\n",
            "ALTA MEDICA -> 0  |  0.0 %\n",
            "DXPRINCIPAL EGRESO COD -> 0  |  0.0 %\n",
            "DXPRINCIPAL EGRESO -> 0  |  0.0 %\n",
            "CAUSA BASICA MUERTE COD -> 0  |  0.0 %\n",
            "CAUSA BASICA MUERTE -> 0  |  0.0 %\n",
            "PROFESIONAL ESPECIALIDAD -> 0  |  0.0 %\n",
            "PROFESIONAL ESPECIALIDAD GRD -> 0  |  0.0 %\n"
          ]
        }
      ]
    },
    {
      "cell_type": "code",
      "source": [
        "lista = egresos.columns\n",
        "for i in lista:\n",
        "    print(i)\n",
        "    print(egresos[i].value_counts())\n",
        "    print(\"__________________\")"
      ],
      "metadata": {
        "colab": {
          "base_uri": "https://localhost:8080/"
        },
        "id": "4sV1WOVAO7ua",
        "outputId": "328f3db0-73ef-4f5e-b94b-1ae76bffcd7d"
      },
      "execution_count": 474,
      "outputs": [
        {
          "output_type": "stream",
          "name": "stdout",
          "text": [
            "YEAR\n",
            "2018    2453\n",
            "2017    2322\n",
            "2021    1601\n",
            "Name: YEAR, dtype: int64\n",
            "__________________\n",
            "MES\n",
            "OCTUBRE       658\n",
            "DICIEMBRE     657\n",
            "SEPTIEMBRE    641\n",
            "AGOSTO        613\n",
            "JUNIO         585\n",
            "JULIO         583\n",
            "NOVIEMBRE     566\n",
            "MAYO          552\n",
            "ABRIL         443\n",
            "MARZO         398\n",
            "ENERO         344\n",
            "FEBRERO       336\n",
            "Name: MES, dtype: int64\n",
            "__________________\n",
            "NRO ATENCION\n",
            "3413801    2\n",
            "3419876    2\n",
            "3414018    2\n",
            "3419416    2\n",
            "3403842    2\n",
            "          ..\n",
            "5589851    1\n",
            "5692272    1\n",
            "5649264    1\n",
            "5786354    1\n",
            "5857866    1\n",
            "Name: NRO ATENCION, Length: 6203, dtype: int64\n",
            "__________________\n",
            "NRO INGRESO\n",
            "1884803    2\n",
            "1889857    2\n",
            "1884996    2\n",
            "1889441    2\n",
            "1879087    2\n",
            "          ..\n",
            "3800926    1\n",
            "3911293    1\n",
            "3864798    1\n",
            "4010672    1\n",
            "4084538    1\n",
            "Name: NRO INGRESO, Length: 6203, dtype: int64\n",
            "__________________\n",
            "TIPO IDENTIFICACION\n",
            "CC    6374\n",
            "CE       2\n",
            "Name: TIPO IDENTIFICACION, dtype: int64\n",
            "__________________\n",
            "NRODOC\n",
            "309930    17\n",
            "309306    16\n",
            "310561    16\n",
            "310557    16\n",
            "308373    15\n",
            "          ..\n",
            "312815     1\n",
            "309554     1\n",
            "313418     1\n",
            "308449     1\n",
            "313921     1\n",
            "Name: NRODOC, Length: 3219, dtype: int64\n",
            "__________________\n",
            "FECHA NACIMIENTO\n",
            "1943-10-29 00:00:00.000    22\n",
            "1960-06-24 00:00:00.000    17\n",
            "1934-11-19 00:00:00.000    16\n",
            "1935-11-11 00:00:00.000    16\n",
            "1939-01-15 00:00:00.000    15\n",
            "                           ..\n",
            "1930-03-24 00:00:00.000     1\n",
            "1938-11-10 00:00:00.000     1\n",
            "1926-03-24 00:00:00.000     1\n",
            "1932-09-06 00:00:00.000     1\n",
            "1960-06-09 00:00:00.000     1\n",
            "Name: FECHA NACIMIENTO, Length: 2910, dtype: int64\n",
            "__________________\n",
            "TIPO EGRESO\n",
            "Alta Médica                    3569\n",
            "Sin información                2272\n",
            "Fallece                         372\n",
            "Remisión a otra institución     145\n",
            "Alta Voluntaria                  17\n",
            "Fuga                              1\n",
            "Name: TIPO EGRESO, dtype: int64\n",
            "__________________\n",
            "FECHA ALTA MEDICA\n",
            "2017-04-10 11:02:10.463    2\n",
            "2017-04-21 09:35:56.543    2\n",
            "2017-04-12 08:39:53.397    2\n",
            "2017-04-18 16:22:30.427    2\n",
            "2017-04-18 14:45:53.943    2\n",
            "                          ..\n",
            "2021-11-01 13:21:00.000    1\n",
            "2017-09-03 11:52:10.330    1\n",
            "2021-04-10 12:39:00.000    1\n",
            "2021-06-30 13:50:00.000    1\n",
            "2021-10-31 21:14:00.000    1\n",
            "Name: FECHA ALTA MEDICA, Length: 6197, dtype: int64\n",
            "__________________\n",
            "FECHA SALIDA\n",
            "2017-04-13 15:23:56.000    2\n",
            "2017-04-22 16:51:09.000    2\n",
            "2017-04-13 11:05:57.000    2\n",
            "2017-04-22 14:20:40.000    2\n",
            "2017-04-26 13:50:24.000    2\n",
            "                          ..\n",
            "2021-04-10 14:08:09.000    1\n",
            "2021-06-30 14:56:27.000    1\n",
            "2021-05-26 14:06:56.000    1\n",
            "2021-09-08 08:10:30.000    1\n",
            "2021-10-31 22:08:10.000    1\n",
            "Name: FECHA SALIDA, Length: 6201, dtype: int64\n",
            "__________________\n",
            "TRANSFUSION SANGRE\n",
            "NO    5910\n",
            "SI     466\n",
            "Name: TRANSFUSION SANGRE, dtype: int64\n",
            "__________________\n",
            "ANTIBIOTICO\n",
            "SI    3228\n",
            "NO    3148\n",
            "Name: ANTIBIOTICO, dtype: int64\n",
            "__________________\n",
            "ALTA MEDICA\n",
            "Sin Informacion    4080\n",
            "SI                 2296\n",
            "Name: ALTA MEDICA, dtype: int64\n",
            "__________________\n",
            "DXPRINCIPAL EGRESO COD\n",
            "J441    679\n",
            "N390    526\n",
            "J440    269\n",
            "I110    243\n",
            "J188    242\n",
            "       ... \n",
            "I611      1\n",
            "E230      1\n",
            "B169      1\n",
            "I447      1\n",
            "M431      1\n",
            "Name: DXPRINCIPAL EGRESO COD, Length: 800, dtype: int64\n",
            "__________________\n",
            "DXPRINCIPAL EGRESO\n",
            "ENFERMEDAD PULMONAR OBSTRUCTIVA CRONICA CON EXACERBACION AGUDA  NO ESPECIFICADA                     679\n",
            "INFECCION DE VIAS URINARIAS  SITIO NO ESPECIFICADO                                                  526\n",
            "ENFERMEDAD PULMONAR OBSTRUCTIVA CRONICA CON INFECCION AGUDA DE LAS VIAS RESPIRATORIAS INFERIORES    269\n",
            "ENFERMEDAD CARDIACA HIPERTENSIVA CON INSUFICIENCIA CARDIACA (CONGESTIVA)                            243\n",
            "OTRAS NEUMONIAS  DE MICROORGANISMO NO ESPECIFICADO                                                  242\n",
            "                                                                                                   ... \n",
            "HEMORRAGIA INTRACEREBRAL EN HEMISFERIO  CORTICAL                                                      1\n",
            "HIPOPITUITARISMO                                                                                      1\n",
            "HEPATITIS AGUDA TIPO B  SIN AGENTE DELTA Y SIN COMA HEPATICO                                          1\n",
            "BLOQUEO DE RAMA IZQUIERDA DEL HAZ  SIN OTRA ESPECIFICACION                                            1\n",
            "ESPONDILOLISTESIS                                                                                     1\n",
            "Name: DXPRINCIPAL EGRESO, Length: 800, dtype: int64\n",
            "__________________\n",
            "CAUSA BASICA MUERTE COD\n",
            "No muere    5810\n",
            "J440          68\n",
            "U071          51\n",
            "J441          43\n",
            "I132          40\n",
            "            ... \n",
            "K566           1\n",
            "K802           1\n",
            "J80X           1\n",
            "I613           1\n",
            "I620           1\n",
            "Name: CAUSA BASICA MUERTE COD, Length: 153, dtype: int64\n",
            "__________________\n",
            "CAUSA BASICA MUERTE\n",
            "Sin informacion en base de datos                                                                    5810\n",
            "ENFERMEDAD PULMONAR OBSTRUCTIVA CRONICA CON INFECCION AGUDA DE LAS VIAS RESPIRATORIAS INFERIORES      68\n",
            "COVID-19 VIRUS IDENTIFICADO                                                                           51\n",
            "ENFERMEDAD PULMONAR OBSTRUCTIVA CRONICA CON EXACERBACION AGUDA  NO ESPECIFICADA                       43\n",
            "ENFERMEDAD CARDIORRENAL HIPERTENSIVA CON INSUFICIENCIA CARDIACA Y RENAL (CONGESTIVAS)                 40\n",
            "                                                                                                    ... \n",
            "OTRAS OBSTRUCCIONES INTESTINALES Y LAS NO ESPECIFICADAS                                                1\n",
            "CALCULO DE LA VESICULA BILIAR SIN COLECISTITIS                                                         1\n",
            "SINDROME DE DIFICULTAD RESPIRATORIA DEL ADULTO                                                         1\n",
            "HEMORRAGIA INTRAENCEFALICA EN TALLO CEREBRAL                                                           1\n",
            "HEMORRAGIA SUBDURAL (AGUDA) (NO TRAUMATICA)                                                            1\n",
            "Name: CAUSA BASICA MUERTE, Length: 153, dtype: int64\n",
            "__________________\n",
            "PROFESIONAL ESPECIALIDAD\n",
            "Medicina Interna                               2817\n",
            "Sin informacion en Base de datos               2275\n",
            "Ortopedia                                       172\n",
            "Nefrologia                                      114\n",
            "Neurologia                                      108\n",
            "Urologia                                        107\n",
            "Cirugia General Grupo 3                          87\n",
            "Cirugia General Grupo 2                          83\n",
            "Psiquiatria                                      79\n",
            "Urgentologia                                     71\n",
            "Cirugia General Grupo 1                          71\n",
            "Cirugia Vascular                                 70\n",
            "Neurocirugia                                     49\n",
            "Cirugia General                                  49\n",
            "Medicina General                                 40\n",
            "Cirugia Plastica- Maxilofacial y de la Mano      30\n",
            "Hepatología                                      30\n",
            "Cirugia Hepatobiliopancreatica                   17\n",
            "Otorrinolaringologia                             14\n",
            "Ginecologia Mama                                 11\n",
            "Ginecologia                                      10\n",
            "Hematología                                      10\n",
            "Intensivista                                      9\n",
            "Cirugia Torax                                     6\n",
            "Toxicologia                                       6\n",
            "Cirugia de Cabeza y Cuello                        6\n",
            "Infectologia                                      5\n",
            "Oftalmologia                                      4\n",
            "Cx trasplantes/hepatobiliopancreatrica            4\n",
            "Oncologia                                         3\n",
            "Cirugia Cardiovascular                            3\n",
            "Geriatria                                         3\n",
            "UCI                                               2\n",
            "Nefrología Trasplante                             2\n",
            "Cardiologia                                       2\n",
            "Neuroradiologo                                    2\n",
            "Cirugia Maxilofacial                              2\n",
            "Gineco Oncologia                                  1\n",
            "Cirugia Oncologica                                1\n",
            "UCE                                               1\n",
            "Name: PROFESIONAL ESPECIALIDAD, dtype: int64\n",
            "__________________\n",
            "PROFESIONAL ESPECIALIDAD GRD\n",
            "Medicina Interna                               3189\n",
            "Cirugia General                                 677\n",
            "Ortopedia                                       366\n",
            "Neurologia                                      345\n",
            "Urologia                                        281\n",
            "Medicina General                                194\n",
            "Nefrologia                                      192\n",
            "Infectologia                                    175\n",
            "Cirugia Vascular                                154\n",
            "Urgentologia                                    147\n",
            "Psiquiatria                                     123\n",
            "Neurocirugia                                    115\n",
            "Hepatología                                      70\n",
            "Cirugia Plastica- Maxilofacial y de la Mano      48\n",
            "Otorrinolaringologia                             40\n",
            "Hematología                                      29\n",
            "Cirugia Torax                                    28\n",
            "Cirugia Hepatobiliopancreatica                   22\n",
            "Cardiologia                                      21\n",
            "Intensivista                                     20\n",
            "Ginecologia Mama                                 19\n",
            "Cirugia Cardiovascular                           19\n",
            "Cx trasplantes/hepatobiliopancreatrica           17\n",
            "Oncologia                                        12\n",
            "Oftalmologia                                     11\n",
            "Neumologia                                       10\n",
            "Ginecologia                                      10\n",
            "Cirugia Maxilofacial                             10\n",
            "Toxicologia                                       9\n",
            "Cirugia de Cabeza y Cuello                        8\n",
            "Vascular Periferico (Med Interna)                 5\n",
            "Dermatologia                                      3\n",
            "Medicina del dolor y cuidado paliativo            1\n",
            "Epileptologia                                     1\n",
            "Nutricion                                         1\n",
            "Gineco Oncologia                                  1\n",
            "Cardiologia Pediatrica                            1\n",
            "Trabajo Social                                    1\n",
            "Terapia Respiratoria                              1\n",
            "Name: PROFESIONAL ESPECIALIDAD GRD, dtype: int64\n",
            "__________________\n"
          ]
        }
      ]
    },
    {
      "cell_type": "code",
      "source": [
        "egresos_pre = egresos[(egresos['YEAR'] == 2017) | (egresos['YEAR'] == 2018)]\n",
        "egresos_pos = egresos[(egresos['YEAR'] == 2021) | (egresos['YEAR'] == 2022)]"
      ],
      "metadata": {
        "id": "LNcbYyoPWNom"
      },
      "execution_count": null,
      "outputs": []
    },
    {
      "cell_type": "code",
      "source": [
        "percent_null(egresos_pos)"
      ],
      "metadata": {
        "colab": {
          "base_uri": "https://localhost:8080/"
        },
        "id": "r0EqggSUS1UB",
        "outputId": "a9a4fb7b-33e3-4cfd-e57e-b6bdb574df27"
      },
      "execution_count": 469,
      "outputs": [
        {
          "output_type": "stream",
          "name": "stdout",
          "text": [
            "YEAR -> 0  |  0.0 %\n",
            "MES -> 0  |  0.0 %\n",
            "NRO ATENCION -> 0  |  0.0 %\n",
            "NRO INGRESO -> 0  |  0.0 %\n",
            "SERVICIO HABILITADO COD -> 0  |  0.0 %\n",
            "SERVICIO HABILITADO -> 0  |  0.0 %\n",
            "TIPO IDENTIFICACION -> 0  |  0.0 %\n",
            "NRODOC -> 0  |  0.0 %\n",
            "FECHA NACIMIENTO -> 0  |  0.0 %\n",
            "REGIMEN AFILIACION -> 0  |  0.0 %\n",
            "EPS VALIDADA -> 0  |  0.0 %\n",
            "MODALIDAD CONTRATO -> 0  |  0.0 %\n",
            "FUENTE FINANCIACION1 -> 0  |  0.0 %\n",
            "FUENTE FINANCIACION2 -> 0  |  0.0 %\n",
            "SERVICIO ADMITE -> 0  |  0.0 %\n",
            "BLOQUE ANTERIOR -> 0  |  0.0 %\n",
            "PISO ANTERIOR -> 0  |  0.0 %\n",
            "SERVICIO ANTERIOR -> 0  |  0.0 %\n",
            "NRO CAMA ANTERIOR -> 0  |  0.0 %\n",
            "VIA INGRESO -> 0  |  0.0 %\n",
            "BLOQUE -> 0  |  0.0 %\n",
            "UNIDAD ESTRATEGICA -> 0  |  0.0 %\n",
            "PISO -> 0  |  0.0 %\n",
            "NRO CAMA -> 0  |  0.0 %\n",
            "SERVICIO EGRESO -> 0  |  0.0 %\n",
            "TIPO EGRESO -> 0  |  0.0 %\n",
            "FECHA INGRESO CLINICA -> 0  |  0.0 %\n",
            "FECHA INGRESO SERVICIO -> 0  |  0.0 %\n",
            "FECHA POSIBLE ALTA -> 1488  |  92.94 %\n",
            "FECHA ALTA MEDICA -> 0  |  0.0 %\n",
            "FECHA RECAUDO -> 2  |  0.12 %\n",
            "FECHA CAMILLERO -> 333  |  20.8 %\n",
            "FECHA ENFERMERIA -> 148  |  9.24 %\n",
            "FECHA FACTURACION AUDIFARMA -> 175  |  10.93 %\n",
            "FECHA FARMACIA -> 112  |  7.0 %\n",
            "FECHA SALIDA -> 0  |  0.0 %\n",
            "FECHA ASEO -> 197  |  12.3 %\n",
            "DEMORA ASIGNACION CAMA -> 0  |  0.0 %\n",
            "DEMORA APLICACION MEDICAMENTO -> 0  |  0.0 %\n",
            "DEMORA SALIDA CLINICA (DIAS) -> 0  |  0.0 %\n",
            "TRANSFUSION SANGRE -> 0  |  0.0 %\n",
            "ANTIBIOTICO -> 0  |  0.0 %\n",
            "ALTA MEDICA -> 0  |  0.0 %\n",
            "POSIBLE ALTA -> 0  |  0.0 %\n",
            "DXPRINCIPAL EGRESO COD -> 0  |  0.0 %\n",
            "DXPRINCIPAL EGRESO -> 0  |  0.0 %\n",
            "DX RELACIONADO1 COD -> 10  |  0.62 %\n",
            "DX RELACIONADO1 -> 0  |  0.0 %\n",
            "DX RELACIONADO2 COD -> 21  |  1.31 %\n",
            "DX RELACIONADO2 -> 0  |  0.0 %\n",
            "DX RELACIONADO3 COD -> 33  |  2.06 %\n",
            "DX RELACIONADO3 -> 0  |  0.0 %\n",
            "TIPO DIAGNOSTICO PRINCIPAL -> 0  |  0.0 %\n",
            "PERTINENCIA DIAGNOSTICA -> 1073  |  67.02 %\n",
            "DX PRINCIPAL EGRESO CATEGORIA COD -> 3  |  0.19 %\n",
            "DX PRINCIPAL EGRESO CATEGORIA -> 0  |  0.0 %\n",
            "DX PRINCIPAL EGRESO CAPITULO COD -> 3  |  0.19 %\n",
            "DX PRINCIPAL EGRESO CAPITULO -> 0  |  0.0 %\n",
            "CAUSA BASICA MUERTE COD -> 1393  |  87.01 %\n",
            "CAUSA BASICA MUERTE -> 0  |  0.0 %\n",
            "CAUSA BASICA CATEGORIA COD -> 1393  |  87.01 %\n",
            "CAUSA BASICA CATEGORIA -> 0  |  0.0 %\n",
            "CAUSA BASICA CAPITULO COD -> 1393  |  87.01 %\n",
            "CAUSA BASICA CAPITULO -> 0  |  0.0 %\n",
            "PROFESIONAL ESPECIALIDAD -> 0  |  0.0 %\n",
            "PROFESIONAL ESPECIALIDAD GRD -> 0  |  0.0 %\n"
          ]
        }
      ]
    },
    {
      "cell_type": "code",
      "source": [
        "egresos_pre['CAUSA BASICA MUERTE'].value_counts()"
      ],
      "metadata": {
        "colab": {
          "base_uri": "https://localhost:8080/"
        },
        "id": "N1UMvgamT_jV",
        "outputId": "b8859a01-671e-4d5f-cbae-fccd7e3747a2"
      },
      "execution_count": 138,
      "outputs": [
        {
          "output_type": "execute_result",
          "data": {
            "text/plain": [
              "Sin informacion en base de datos                                                                    4417\n",
              "ENFERMEDAD PULMONAR OBSTRUCTIVA CRONICA CON INFECCION AGUDA DE LAS VIAS RESPIRATORIAS INFERIORES      46\n",
              "ENFERMEDAD PULMONAR OBSTRUCTIVA CRONICA CON EXACERBACION AGUDA  NO ESPECIFICADA                       42\n",
              "ENFERMEDAD CARDIORRENAL HIPERTENSIVA CON INSUFICIENCIA CARDIACA Y RENAL (CONGESTIVAS)                 20\n",
              "SECUELAS DE ENFERMEDAD CEREBROVASCULAR  NO ESPECIFICADA COMO HEMORRAGICA U OCLUSIVA                   16\n",
              "                                                                                                    ... \n",
              "TUMOR MALIGNO DEL UTERO  PARTE NO ESPECIFICADA                                                         1\n",
              "CALCULO DE LA VESICULA BILIAR SIN COLECISTITIS                                                         1\n",
              "TUMOR MALIGNO DEL RINON  EXCEPTO DE LA PELVIS RENAL                                                    1\n",
              "Apendicitis aguda con peritonitis localizada                                                           1\n",
              "HEMORRAGIA SUBARACNOIDEA  NO ESPECIFICADA                                                              1\n",
              "Name: CAUSA BASICA MUERTE, Length: 109, dtype: int64"
            ]
          },
          "metadata": {},
          "execution_count": 138
        }
      ]
    },
    {
      "cell_type": "markdown",
      "source": [
        "Continación depuración de la  base 'cronicos_pre'"
      ],
      "metadata": {
        "id": "egrQSADNVFKv"
      }
    },
    {
      "cell_type": "code",
      "source": [
        "cronicos_pre = cronicos_pre.drop(['Hora', 'Atención', 'Ingreso'], axis = 1)"
      ],
      "metadata": {
        "id": "KONXWH4lQ8HB"
      },
      "execution_count": 139,
      "outputs": []
    },
    {
      "cell_type": "markdown",
      "source": [
        "#Análisis exploratorio"
      ],
      "metadata": {
        "id": "OljLPJD7YYOk"
      }
    }
  ]
}